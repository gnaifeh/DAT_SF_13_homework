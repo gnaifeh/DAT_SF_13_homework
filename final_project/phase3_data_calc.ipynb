{
 "cells": [
  {
   "cell_type": "markdown",
   "metadata": {},
   "source": [
    "# Final Project: Phase 3: Manipulating Maps Data with Pandas"
   ]
  },
  {
   "cell_type": "code",
   "execution_count": 1,
   "metadata": {
    "collapsed": true
   },
   "outputs": [],
   "source": [
    "import numpy as np\n",
    "import pandas as pd\n",
    "import MySQLdb as mdb\n",
    "import MySQL_data_file as MySQL_data"
   ]
  },
  {
   "cell_type": "code",
   "execution_count": 2,
   "metadata": {
    "collapsed": true
   },
   "outputs": [],
   "source": [
    "con = mdb.connect(MySQL_data.my_sql_host, MySQL_data.my_sql_user,\\\n",
    "                    MySQL_data.my_sql_passwd,\\\n",
    "                    MySQL_data.my_sql_database)\n",
    "#con.close"
   ]
  },
  {
   "cell_type": "code",
   "execution_count": 3,
   "metadata": {
    "collapsed": true
   },
   "outputs": [],
   "source": [
    "def run_sql(query):\n",
    "    cur = con.cursor()\n",
    "    cur.execute(query)\n",
    "    con.commit()\n",
    "    #con.close()\n",
    "    return cur.fetchall()"
   ]
  },
  {
   "cell_type": "code",
   "execution_count": 4,
   "metadata": {
    "collapsed": false
   },
   "outputs": [
    {
     "name": "stdout",
     "output_type": "stream",
     "text": [
      "<class 'pandas.core.frame.DataFrame'>\n",
      "Int64Index: 29628 entries, 0 to 29627\n",
      "Data columns (total 9 columns):\n",
      "entry_id        29628 non-null int64\n",
      "timestamp       29628 non-null datetime64[ns]\n",
      "datetime        29628 non-null datetime64[ns]\n",
      "origins         29628 non-null object\n",
      "destinations    29628 non-null object\n",
      "travel_mode     29628 non-null object\n",
      "duration        29454 non-null float64\n",
      "distance        29454 non-null float64\n",
      "fare            17128 non-null float64\n",
      "dtypes: datetime64[ns](2), float64(3), int64(1), object(3)\n",
      "memory usage: 2.3+ MB\n"
     ]
    }
   ],
   "source": [
    "gmaps_df = pd.read_sql(\"\"\"SELECT entry_id,timestamp,datetime,origins,destinations,travel_mode,duration,distance,fare\n",
    "                        FROM gmaps_data\"\"\",con)\n",
    "gmaps_df.info()"
   ]
  },
  {
   "cell_type": "code",
   "execution_count": 5,
   "metadata": {
    "collapsed": false
   },
   "outputs": [
    {
     "name": "stdout",
     "output_type": "stream",
     "text": [
      "<class 'pandas.core.frame.DataFrame'>\n",
      "Int64Index: 19080 entries, 0 to 19079\n",
      "Data columns (total 9 columns):\n",
      "entry_id            19080 non-null int64\n",
      "timestamp           19080 non-null datetime64[ns]\n",
      "datetime            19080 non-null datetime64[ns]\n",
      "origins             19080 non-null object\n",
      "destinations        19080 non-null object\n",
      "travel_mode         19080 non-null object\n",
      "duration_traffic    19080 non-null int64\n",
      "distance            19080 non-null int64\n",
      "congestion          19080 non-null object\n",
      "dtypes: datetime64[ns](2), int64(3), object(4)\n",
      "memory usage: 1.5+ MB\n"
     ]
    }
   ],
   "source": [
    "bing_df = pd.read_sql(\"\"\"SELECT entry_id,timestamp,datetime,origins,destinations,travel_mode,duration_traffic,distance,congestion\n",
    "                        FROM mmaps_data\"\"\",con)\n",
    "bing_df.info()"
   ]
  },
  {
   "cell_type": "code",
   "execution_count": 6,
   "metadata": {
    "collapsed": true
   },
   "outputs": [],
   "source": [
    "#changing the bing maps \"duration_traffic\" column to \"duration\" in order to match up the column with the gmaps_df\n",
    "bing_df.columns = [u'entry_id', u'timestamp', u'datetime', u'origins', u'destinations', u'travel_mode', u'duration', u'distance', u'congestion']"
   ]
  },
  {
   "cell_type": "code",
   "execution_count": 7,
   "metadata": {
    "collapsed": true
   },
   "outputs": [],
   "source": [
    "combined_df = gmaps_df.merge(bing_df, how='outer')"
   ]
  },
  {
   "cell_type": "code",
   "execution_count": 8,
   "metadata": {
    "collapsed": false
   },
   "outputs": [],
   "source": [
    "combined_df = combined_df.copy()"
   ]
  },
  {
   "cell_type": "code",
   "execution_count": 9,
   "metadata": {
    "collapsed": false
   },
   "outputs": [
    {
     "name": "stdout",
     "output_type": "stream",
     "text": [
      "<class 'pandas.core.frame.DataFrame'>\n",
      "Int64Index: 48708 entries, 0 to 48707\n",
      "Data columns (total 10 columns):\n",
      "entry_id        48708 non-null float64\n",
      "timestamp       48708 non-null datetime64[ns]\n",
      "datetime        48708 non-null datetime64[ns]\n",
      "origins         48708 non-null object\n",
      "destinations    48708 non-null object\n",
      "travel_mode     48708 non-null object\n",
      "duration        48534 non-null float64\n",
      "distance        48534 non-null float64\n",
      "fare            17128 non-null float64\n",
      "congestion      19080 non-null object\n",
      "dtypes: datetime64[ns](2), float64(4), object(4)\n",
      "memory usage: 4.1+ MB\n"
     ]
    }
   ],
   "source": [
    "combined_df.info()"
   ]
  },
  {
   "cell_type": "code",
   "execution_count": 10,
   "metadata": {
    "collapsed": false
   },
   "outputs": [],
   "source": [
    "#can also use sql to look for null values: select * from gmaps_data where duration is NULL\n",
    "combined_df = combined_df.ix[pd.notnull(combined_df['duration']),:].sort(columns='entry_id', ascending='True')"
   ]
  },
  {
   "cell_type": "markdown",
   "metadata": {},
   "source": [
    "Note (from above): It appears that all data between April 22 and 25 was corrupted. Should delete or remove any references"
   ]
  },
  {
   "cell_type": "code",
   "execution_count": 11,
   "metadata": {
    "collapsed": false
   },
   "outputs": [
    {
     "name": "stdout",
     "output_type": "stream",
     "text": [
      "0\n",
      "48534\n"
     ]
    }
   ],
   "source": [
    "print len(combined_df[pd.isnull(combined_df['duration'])])\n",
    "print len(combined_df[pd.notnull(combined_df['duration'])])"
   ]
  },
  {
   "cell_type": "code",
   "execution_count": 41,
   "metadata": {
    "collapsed": false
   },
   "outputs": [
    {
     "name": "stdout",
     "output_type": "stream",
     "text": [
      "<class 'pandas.core.frame.DataFrame'>\n",
      "Int64Index: 48534 entries, 0 to 48707\n",
      "Data columns (total 10 columns):\n",
      "entry_id        48534 non-null float64\n",
      "timestamp       48534 non-null datetime64[ns]\n",
      "datetime        48534 non-null datetime64[ns]\n",
      "origins         48534 non-null object\n",
      "destinations    48534 non-null object\n",
      "travel_mode     48534 non-null object\n",
      "duration        48534 non-null float64\n",
      "distance        48534 non-null float64\n",
      "fare            17128 non-null float64\n",
      "congestion      19080 non-null object\n",
      "dtypes: datetime64[ns](2), float64(4), object(4)\n",
      "memory usage: 4.1+ MB\n"
     ]
    }
   ],
   "source": [
    "combined_df.info()"
   ]
  },
  {
   "cell_type": "code",
   "execution_count": 40,
   "metadata": {
    "collapsed": false
   },
   "outputs": [
    {
     "data": {
      "text/html": [
       "<div style=\"max-height:1000px;max-width:1500px;overflow:auto;\">\n",
       "<table border=\"1\" class=\"dataframe\">\n",
       "  <thead>\n",
       "    <tr style=\"text-align: right;\">\n",
       "      <th></th>\n",
       "      <th>entry_id</th>\n",
       "      <th>timestamp</th>\n",
       "      <th>datetime</th>\n",
       "      <th>origins</th>\n",
       "      <th>destinations</th>\n",
       "      <th>travel_mode</th>\n",
       "      <th>duration</th>\n",
       "      <th>distance</th>\n",
       "      <th>fare</th>\n",
       "      <th>congestion</th>\n",
       "    </tr>\n",
       "  </thead>\n",
       "  <tbody>\n",
       "    <tr>\n",
       "      <th>0</th>\n",
       "      <td> 1</td>\n",
       "      <td>2015-04-20 01:14:42</td>\n",
       "      <td>2015-04-20 08:14:42</td>\n",
       "      <td> Outer Sunset, San Francisco, CA, USA</td>\n",
       "      <td> Financial District, San Francisco, CA, USA</td>\n",
       "      <td> transit</td>\n",
       "      <td> 2661</td>\n",
       "      <td> 11969</td>\n",
       "      <td>  2</td>\n",
       "      <td>  NaN</td>\n",
       "    </tr>\n",
       "    <tr>\n",
       "      <th>1</th>\n",
       "      <td> 1</td>\n",
       "      <td>2015-04-27 02:32:58</td>\n",
       "      <td>2015-04-27 09:32:56</td>\n",
       "      <td>                          Oakland, CA</td>\n",
       "      <td>         Pacific Heights, San Francisco, CA</td>\n",
       "      <td> driving</td>\n",
       "      <td> 1750</td>\n",
       "      <td>    23</td>\n",
       "      <td>NaN</td>\n",
       "      <td> None</td>\n",
       "    </tr>\n",
       "    <tr>\n",
       "      <th>2</th>\n",
       "      <td> 2</td>\n",
       "      <td>2015-04-20 01:14:42</td>\n",
       "      <td>2015-04-20 08:14:42</td>\n",
       "      <td> Outer Sunset, San Francisco, CA, USA</td>\n",
       "      <td>                           Oakland, CA, USA</td>\n",
       "      <td> transit</td>\n",
       "      <td> 6056</td>\n",
       "      <td> 30158</td>\n",
       "      <td>NaN</td>\n",
       "      <td>  NaN</td>\n",
       "    </tr>\n",
       "    <tr>\n",
       "      <th>3</th>\n",
       "      <td> 2</td>\n",
       "      <td>2015-04-27 02:32:58</td>\n",
       "      <td>2015-04-27 09:32:56</td>\n",
       "      <td>                          Oakland, CA</td>\n",
       "      <td>          Outer Richmond, San+Francisco, CA</td>\n",
       "      <td> driving</td>\n",
       "      <td> 2089</td>\n",
       "      <td>    27</td>\n",
       "      <td>NaN</td>\n",
       "      <td> None</td>\n",
       "    </tr>\n",
       "    <tr>\n",
       "      <th>4</th>\n",
       "      <td> 3</td>\n",
       "      <td>2015-04-20 01:14:42</td>\n",
       "      <td>2015-04-20 08:14:42</td>\n",
       "      <td>   Noe Valley, San Francisco, CA, USA</td>\n",
       "      <td> Financial District, San Francisco, CA, USA</td>\n",
       "      <td> transit</td>\n",
       "      <td> 3182</td>\n",
       "      <td>  9355</td>\n",
       "      <td>  2</td>\n",
       "      <td>  NaN</td>\n",
       "    </tr>\n",
       "  </tbody>\n",
       "</table>\n",
       "</div>"
      ],
      "text/plain": [
       "   entry_id           timestamp            datetime  \\\n",
       "0         1 2015-04-20 01:14:42 2015-04-20 08:14:42   \n",
       "1         1 2015-04-27 02:32:58 2015-04-27 09:32:56   \n",
       "2         2 2015-04-20 01:14:42 2015-04-20 08:14:42   \n",
       "3         2 2015-04-27 02:32:58 2015-04-27 09:32:56   \n",
       "4         3 2015-04-20 01:14:42 2015-04-20 08:14:42   \n",
       "\n",
       "                                origins  \\\n",
       "0  Outer Sunset, San Francisco, CA, USA   \n",
       "1                           Oakland, CA   \n",
       "2  Outer Sunset, San Francisco, CA, USA   \n",
       "3                           Oakland, CA   \n",
       "4    Noe Valley, San Francisco, CA, USA   \n",
       "\n",
       "                                 destinations travel_mode  duration  distance  \\\n",
       "0  Financial District, San Francisco, CA, USA     transit      2661     11969   \n",
       "1          Pacific Heights, San Francisco, CA     driving      1750        23   \n",
       "2                            Oakland, CA, USA     transit      6056     30158   \n",
       "3           Outer Richmond, San+Francisco, CA     driving      2089        27   \n",
       "4  Financial District, San Francisco, CA, USA     transit      3182      9355   \n",
       "\n",
       "   fare congestion  \n",
       "0     2        NaN  \n",
       "1   NaN       None  \n",
       "2   NaN        NaN  \n",
       "3   NaN       None  \n",
       "4     2        NaN  "
      ]
     },
     "execution_count": 40,
     "metadata": {},
     "output_type": "execute_result"
    }
   ],
   "source": [
    "combined_df.head()"
   ]
  },
  {
   "cell_type": "code",
   "execution_count": 71,
   "metadata": {
    "collapsed": false
   },
   "outputs": [
    {
     "name": "stdout",
     "output_type": "stream",
     "text": [
      "Berkeley, CA\n",
      "Berkeley, CA, USA\n",
      "Financial District, San Francisco, CA\n",
      "Financial District, San Francisco, CA, USA\n",
      "Mission District, San Francisco, CA\n",
      "Mission District, San Francisco, CA, USA\n",
      "Mountain View, CA\n",
      "Mountain View, CA, USA\n",
      "Noe Valley, San Francisco, CA, USA\n",
      "Noe Valley, San+Francisco, CA\n",
      "North Beach, San Francisco, CA\n",
      "North Beach, San Francisco, CA, USA\n",
      "Oakland, CA\n",
      "Oakland, CA, USA\n",
      "Outer Richmond, San Francisco, CA, USA\n",
      "Outer Richmond, San+Francisco, CA\n",
      "Outer Sunset, San Francisco, CA\n",
      "Outer Sunset, San Francisco, CA, USA\n",
      "Pacific Heights, San Francisco, CA\n",
      "Pacific Heights, San Francisco, CA, USA\n",
      "Russian Hill, San Francisco, CA\n",
      "Russian Hill, San Francisco, CA, USA\n"
     ]
    }
   ],
   "source": [
    "#need to figure out the select distinct for pandas to make sure that below we are getting out all of the oaklands\n",
    "#combined_df[['origins','destinations']]\n",
    "origins_sorted = np.sort(pd.Series.unique(combined_df['origins']))\n",
    "for value in origins_sorted: print value"
   ]
  },
  {
   "cell_type": "code",
   "execution_count": 120,
   "metadata": {
    "collapsed": false
   },
   "outputs": [
    {
     "name": "stdout",
     "output_type": "stream",
     "text": [
      "48036\n",
      "48036\n",
      "48534\n"
     ]
    }
   ],
   "source": [
    "print len(combined_df[~((combined_df['origins'] =='Oakland, CA, USA')\\\n",
    "                        & (combined_df['destinations'] == 'Oakland, CA, USA'))])\n",
    "print len(combined_df[((combined_df['origins'] !='Oakland, CA, USA')\\\n",
    "                          | (combined_df['destinations'] != 'Oakland, CA, USA'))])\n",
    "\n",
    "combined_df2 = combined_df[combined_df['distance'] != 0].copy()\n",
    "print len(combined_df)"
   ]
  },
  {
   "cell_type": "code",
   "execution_count": 112,
   "metadata": {
    "collapsed": false
   },
   "outputs": [
    {
     "name": "stdout",
     "output_type": "stream",
     "text": [
      "<class 'pandas.core.frame.DataFrame'>\n",
      "Int64Index: 48036 entries, 0 to 48707\n",
      "Data columns (total 10 columns):\n",
      "entry_id        48036 non-null float64\n",
      "timestamp       48036 non-null datetime64[ns]\n",
      "datetime        48036 non-null datetime64[ns]\n",
      "origins         48036 non-null object\n",
      "destinations    48036 non-null object\n",
      "travel_mode     48036 non-null object\n",
      "duration        48036 non-null float64\n",
      "distance        48036 non-null float64\n",
      "fare            17128 non-null float64\n",
      "congestion      19080 non-null object\n",
      "dtypes: datetime64[ns](2), float64(4), object(4)\n",
      "memory usage: 4.0+ MB\n"
     ]
    }
   ],
   "source": []
  },
  {
   "cell_type": "code",
   "execution_count": null,
   "metadata": {
    "collapsed": true
   },
   "outputs": [],
   "source": []
  },
  {
   "cell_type": "code",
   "execution_count": null,
   "metadata": {
    "collapsed": true
   },
   "outputs": [],
   "source": [
    "#write to csv\n",
    "#df.to_csv('foo.csv')\n",
    "#read from csv\n",
    "#pd.read_csv('foo.csv')"
   ]
  }
 ],
 "metadata": {
  "kernelspec": {
   "display_name": "Python 2",
   "language": "python",
   "name": "python2"
  },
  "language_info": {
   "codemirror_mode": {
    "name": "ipython",
    "version": 2
   },
   "file_extension": ".py",
   "mimetype": "text/x-python",
   "name": "python",
   "nbconvert_exporter": "python",
   "pygments_lexer": "ipython2",
   "version": "2.7.9"
  }
 },
 "nbformat": 4,
 "nbformat_minor": 0
}
