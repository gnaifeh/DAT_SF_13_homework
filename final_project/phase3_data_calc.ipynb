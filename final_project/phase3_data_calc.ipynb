{
 "cells": [
  {
   "cell_type": "markdown",
   "metadata": {},
   "source": [
    "# Final Project: Phase 3: Manipulating Maps Data with Pandas"
   ]
  },
  {
   "cell_type": "code",
   "execution_count": 1,
   "metadata": {
    "collapsed": true
   },
   "outputs": [],
   "source": [
    "import numpy as np\n",
    "import pandas as pd\n",
    "import MySQLdb as mdb\n",
    "import MySQL_data_file as MySQL_data"
   ]
  },
  {
   "cell_type": "code",
   "execution_count": 2,
   "metadata": {
    "collapsed": true
   },
   "outputs": [],
   "source": [
    "con = mdb.connect(MySQL_data.my_sql_host, MySQL_data.my_sql_user,\\\n",
    "                    MySQL_data.my_sql_passwd,\\\n",
    "                    MySQL_data.my_sql_database)\n",
    "#con.close"
   ]
  },
  {
   "cell_type": "code",
   "execution_count": 3,
   "metadata": {
    "collapsed": true
   },
   "outputs": [],
   "source": [
    "def run_sql(query):\n",
    "    cur = con.cursor()\n",
    "    cur.execute(query)\n",
    "    con.commit()\n",
    "    #con.close()\n",
    "    return cur.fetchall()"
   ]
  },
  {
   "cell_type": "markdown",
   "metadata": {},
   "source": [
    "####Read in the data from SQL and combine into a single DataFrame"
   ]
  },
  {
   "cell_type": "code",
   "execution_count": 182,
   "metadata": {
    "collapsed": false
   },
   "outputs": [],
   "source": [
    "gmaps_df = pd.read_sql(\"\"\"SELECT entry_id,timestamp,datetime,origins,destinations,travel_mode,duration,distance,fare\n",
    "                        FROM gmaps_data\"\"\",con)\n",
    "bing_df = pd.read_sql(\"\"\"SELECT entry_id,timestamp,datetime,origins,destinations,travel_mode,duration_traffic,distance,congestion\n",
    "                        FROM mmaps_data\"\"\",con)\n",
    "#changing the bing maps \"duration_traffic\" column to \"duration\" in order to match up the column with the gmaps_df\n",
    "bing_df.columns = [u'entry_id', u'timestamp', u'datetime', u'origins', u'destinations', u'travel_mode', u'duration', u'distance', u'congestion']\n",
    "combined_df = gmaps_df.merge(bing_df, how='outer')\n",
    "combined_df = combined_df.copy()\n",
    "#combined_df.info()"
   ]
  },
  {
   "cell_type": "markdown",
   "metadata": {
    "collapsed": false
   },
   "source": [
    "####Remove all rows in the combined DataFrame where duration is Null"
   ]
  },
  {
   "cell_type": "markdown",
   "metadata": {},
   "source": [
    "Note: It appears that all data between April 22 and 25 was corrupted. Should delete or remove any references"
   ]
  },
  {
   "cell_type": "code",
   "execution_count": 183,
   "metadata": {
    "collapsed": false
   },
   "outputs": [],
   "source": [
    "#can also use sql to look for null values: select * from gmaps_data where duration is NULL\n",
    "combined_df = combined_df.ix[pd.notnull(combined_df['duration']),:].sort(columns='entry_id', ascending='True').copy()"
   ]
  },
  {
   "cell_type": "code",
   "execution_count": 184,
   "metadata": {
    "collapsed": false
   },
   "outputs": [
    {
     "name": "stdout",
     "output_type": "stream",
     "text": [
      "0\n",
      "58248\n"
     ]
    }
   ],
   "source": [
    "print len(combined_df[pd.isnull(combined_df['duration'])])\n",
    "print len(combined_df[pd.notnull(combined_df['duration'])])\n",
    "#combined_df.info()"
   ]
  },
  {
   "cell_type": "code",
   "execution_count": 13,
   "metadata": {
    "collapsed": false
   },
   "outputs": [
    {
     "data": {
      "text/html": [
       "<div style=\"max-height:1000px;max-width:1500px;overflow:auto;\">\n",
       "<table border=\"1\" class=\"dataframe\">\n",
       "  <thead>\n",
       "    <tr style=\"text-align: right;\">\n",
       "      <th></th>\n",
       "      <th>entry_id</th>\n",
       "      <th>timestamp</th>\n",
       "      <th>datetime</th>\n",
       "      <th>origins</th>\n",
       "      <th>destinations</th>\n",
       "      <th>travel_mode</th>\n",
       "      <th>duration</th>\n",
       "      <th>distance</th>\n",
       "      <th>fare</th>\n",
       "      <th>congestion</th>\n",
       "    </tr>\n",
       "  </thead>\n",
       "  <tbody>\n",
       "    <tr>\n",
       "      <th>0</th>\n",
       "      <td> 1</td>\n",
       "      <td>2015-04-20 01:14:42</td>\n",
       "      <td>2015-04-20 08:14:42</td>\n",
       "      <td> Outer Sunset, San Francisco, CA, USA</td>\n",
       "      <td> Financial District, San Francisco, CA, USA</td>\n",
       "      <td> transit</td>\n",
       "      <td> 2661</td>\n",
       "      <td> 11969</td>\n",
       "      <td>  2</td>\n",
       "      <td>  NaN</td>\n",
       "    </tr>\n",
       "    <tr>\n",
       "      <th>1</th>\n",
       "      <td> 1</td>\n",
       "      <td>2015-04-27 02:32:58</td>\n",
       "      <td>2015-04-27 09:32:56</td>\n",
       "      <td>                          Oakland, CA</td>\n",
       "      <td>         Pacific Heights, San Francisco, CA</td>\n",
       "      <td> driving</td>\n",
       "      <td> 1750</td>\n",
       "      <td>    23</td>\n",
       "      <td>NaN</td>\n",
       "      <td> None</td>\n",
       "    </tr>\n",
       "    <tr>\n",
       "      <th>2</th>\n",
       "      <td> 2</td>\n",
       "      <td>2015-04-20 01:14:42</td>\n",
       "      <td>2015-04-20 08:14:42</td>\n",
       "      <td> Outer Sunset, San Francisco, CA, USA</td>\n",
       "      <td>                           Oakland, CA, USA</td>\n",
       "      <td> transit</td>\n",
       "      <td> 6056</td>\n",
       "      <td> 30158</td>\n",
       "      <td>NaN</td>\n",
       "      <td>  NaN</td>\n",
       "    </tr>\n",
       "    <tr>\n",
       "      <th>3</th>\n",
       "      <td> 2</td>\n",
       "      <td>2015-04-27 02:32:58</td>\n",
       "      <td>2015-04-27 09:32:56</td>\n",
       "      <td>                          Oakland, CA</td>\n",
       "      <td>          Outer Richmond, San+Francisco, CA</td>\n",
       "      <td> driving</td>\n",
       "      <td> 2089</td>\n",
       "      <td>    27</td>\n",
       "      <td>NaN</td>\n",
       "      <td> None</td>\n",
       "    </tr>\n",
       "    <tr>\n",
       "      <th>4</th>\n",
       "      <td> 3</td>\n",
       "      <td>2015-04-20 01:14:42</td>\n",
       "      <td>2015-04-20 08:14:42</td>\n",
       "      <td>   Noe Valley, San Francisco, CA, USA</td>\n",
       "      <td> Financial District, San Francisco, CA, USA</td>\n",
       "      <td> transit</td>\n",
       "      <td> 3182</td>\n",
       "      <td>  9355</td>\n",
       "      <td>  2</td>\n",
       "      <td>  NaN</td>\n",
       "    </tr>\n",
       "  </tbody>\n",
       "</table>\n",
       "</div>"
      ],
      "text/plain": [
       "   entry_id           timestamp            datetime  \\\n",
       "0         1 2015-04-20 01:14:42 2015-04-20 08:14:42   \n",
       "1         1 2015-04-27 02:32:58 2015-04-27 09:32:56   \n",
       "2         2 2015-04-20 01:14:42 2015-04-20 08:14:42   \n",
       "3         2 2015-04-27 02:32:58 2015-04-27 09:32:56   \n",
       "4         3 2015-04-20 01:14:42 2015-04-20 08:14:42   \n",
       "\n",
       "                                origins  \\\n",
       "0  Outer Sunset, San Francisco, CA, USA   \n",
       "1                           Oakland, CA   \n",
       "2  Outer Sunset, San Francisco, CA, USA   \n",
       "3                           Oakland, CA   \n",
       "4    Noe Valley, San Francisco, CA, USA   \n",
       "\n",
       "                                 destinations travel_mode  duration  distance  \\\n",
       "0  Financial District, San Francisco, CA, USA     transit      2661     11969   \n",
       "1          Pacific Heights, San Francisco, CA     driving      1750        23   \n",
       "2                            Oakland, CA, USA     transit      6056     30158   \n",
       "3           Outer Richmond, San+Francisco, CA     driving      2089        27   \n",
       "4  Financial District, San Francisco, CA, USA     transit      3182      9355   \n",
       "\n",
       "   fare congestion  \n",
       "0     2        NaN  \n",
       "1   NaN       None  \n",
       "2   NaN        NaN  \n",
       "3   NaN       None  \n",
       "4     2        NaN  "
      ]
     },
     "execution_count": 13,
     "metadata": {},
     "output_type": "execute_result"
    }
   ],
   "source": [
    "combined_df.head()"
   ]
  },
  {
   "cell_type": "markdown",
   "metadata": {
    "collapsed": false
   },
   "source": [
    "####The code below separates out all rows where the origin and destination are Oakland. This only applies to gmaps data."
   ]
  },
  {
   "cell_type": "code",
   "execution_count": 187,
   "metadata": {
    "collapsed": false
   },
   "outputs": [],
   "source": [
    "#Using ~ to select opposite\n",
    "#print len(combined_df)\n",
    "#print len(combined_df[((combined_df['origins'] =='Oakland, CA, USA')\\\n",
    "#                        & (combined_df['destinations'] == 'Oakland, CA, USA'))])\n",
    "'''\n",
    "print len(combined_df[~((combined_df['origins'] =='Oakland, CA, USA')\\\n",
    "                        & (combined_df['destinations'] == 'Oakland, CA, USA'))])\n",
    "#Below code produces the same as the previous selection\n",
    "print len(combined_df[((combined_df['origins'] !='Oakland, CA, USA')\\\n",
    "                          | (combined_df['destinations'] != 'Oakland, CA, USA'))])\n",
    "'''\n",
    "#The below code gets rid of all rows where the duration value is 0 (e.g. Oakland to Oakland trips)\n",
    "combined_df2 = combined_df[combined_df['distance'] != 0].copy()\n",
    "#print len(combined_df2)\n",
    "#combined_df2.head()"
   ]
  },
  {
   "cell_type": "markdown",
   "metadata": {},
   "source": [
    "####Normalizing origin/destination names by replacing with shorter names"
   ]
  },
  {
   "cell_type": "code",
   "execution_count": 188,
   "metadata": {
    "collapsed": true
   },
   "outputs": [],
   "source": [
    "combined_df3 = combined_df2.copy()"
   ]
  },
  {
   "cell_type": "code",
   "execution_count": 197,
   "metadata": {
    "collapsed": false
   },
   "outputs": [],
   "source": [
    "#The following code displays/stores the distinct names in the origins and destinations\n",
    "origins_sorted = np.sort(pd.Series.unique(combined_df3['origins']))\n",
    "destinations_sorted = np.sort(pd.Series.unique(combined_df3['destinations']))\n",
    "#for value in origins_sorted: print value\n",
    "#for value in destinations_sorted: print value"
   ]
  },
  {
   "cell_type": "code",
   "execution_count": 190,
   "metadata": {
    "collapsed": true
   },
   "outputs": [],
   "source": [
    "#this is the list of names that will be replacing longer names for origins/destinations\n",
    "new_names = ['Oakland','Berkeley', 'Financial District', 'Mission',\\\n",
    "             'Mountain View', 'Noe Valley', 'North Beach', 'Russian Hill',\\\n",
    "             'Pacific Heights', 'Outer Sunset', 'Outer Richmond']"
   ]
  },
  {
   "cell_type": "code",
   "execution_count": 191,
   "metadata": {
    "collapsed": true
   },
   "outputs": [],
   "source": [
    "#the following code normalizes the district and city names in the origin and destination columns,\n",
    "#replaces longer names with shorter names from list above\n",
    "for short_name in new_names:\n",
    "    combined_df3.ix[combined_df3['origins'].str.contains(short_name), 'origins'] = short_name\n",
    "    combined_df3.ix[combined_df3['destinations'].str.contains(short_name), 'destinations'] = short_name"
   ]
  },
  {
   "cell_type": "code",
   "execution_count": 198,
   "metadata": {
    "collapsed": false
   },
   "outputs": [
    {
     "data": {
      "text/plain": [
       "57750"
      ]
     },
     "execution_count": 198,
     "metadata": {},
     "output_type": "execute_result"
    }
   ],
   "source": [
    "#check to make sure that name normalization was successful\n",
    "#combined_df3.head()\n",
    "#print np.sort(pd.Series.unique(combined_df3['origins']))\n",
    "#print np.sort(pd.Series.unique(combined_df3['destinations']))\n",
    "##################################\n",
    "#making sure that there were no incidents in updating the origins and destinations\n",
    "#by looking to see if any origin/destination pairs are equivalent\n",
    "len(combined_df3[combined_df3['origins'] != combined_df3['destinations']])"
   ]
  },
  {
   "cell_type": "code",
   "execution_count": null,
   "metadata": {
    "collapsed": false
   },
   "outputs": [],
   "source": []
  },
  {
   "cell_type": "markdown",
   "metadata": {},
   "source": [
    "####Let's focus now on what is most important: duration (or travel time between origin and destination)"
   ]
  },
  {
   "cell_type": "code",
   "execution_count": 195,
   "metadata": {
    "collapsed": false
   },
   "outputs": [
    {
     "data": {
      "text/html": [
       "<div style=\"max-height:1000px;max-width:1500px;overflow:auto;\">\n",
       "<table border=\"1\" class=\"dataframe\">\n",
       "  <thead>\n",
       "    <tr style=\"text-align: right;\">\n",
       "      <th></th>\n",
       "      <th>entry_id</th>\n",
       "      <th>timestamp</th>\n",
       "      <th>datetime</th>\n",
       "      <th>origins</th>\n",
       "      <th>destinations</th>\n",
       "      <th>travel_mode</th>\n",
       "      <th>duration</th>\n",
       "    </tr>\n",
       "  </thead>\n",
       "  <tbody>\n",
       "    <tr>\n",
       "      <th>0</th>\n",
       "      <td> 1</td>\n",
       "      <td>2015-04-20 01:14:42</td>\n",
       "      <td>2015-04-20 08:14:42</td>\n",
       "      <td> Outer Sunset</td>\n",
       "      <td> Financial District</td>\n",
       "      <td> transit</td>\n",
       "      <td> 2661</td>\n",
       "    </tr>\n",
       "    <tr>\n",
       "      <th>1</th>\n",
       "      <td> 1</td>\n",
       "      <td>2015-04-27 02:32:58</td>\n",
       "      <td>2015-04-27 09:32:56</td>\n",
       "      <td>      Oakland</td>\n",
       "      <td>    Pacific Heights</td>\n",
       "      <td> driving</td>\n",
       "      <td> 1750</td>\n",
       "    </tr>\n",
       "    <tr>\n",
       "      <th>2</th>\n",
       "      <td> 2</td>\n",
       "      <td>2015-04-20 01:14:42</td>\n",
       "      <td>2015-04-20 08:14:42</td>\n",
       "      <td> Outer Sunset</td>\n",
       "      <td>            Oakland</td>\n",
       "      <td> transit</td>\n",
       "      <td> 6056</td>\n",
       "    </tr>\n",
       "    <tr>\n",
       "      <th>3</th>\n",
       "      <td> 2</td>\n",
       "      <td>2015-04-27 02:32:58</td>\n",
       "      <td>2015-04-27 09:32:56</td>\n",
       "      <td>      Oakland</td>\n",
       "      <td>     Outer Richmond</td>\n",
       "      <td> driving</td>\n",
       "      <td> 2089</td>\n",
       "    </tr>\n",
       "    <tr>\n",
       "      <th>4</th>\n",
       "      <td> 3</td>\n",
       "      <td>2015-04-20 01:14:42</td>\n",
       "      <td>2015-04-20 08:14:42</td>\n",
       "      <td>   Noe Valley</td>\n",
       "      <td> Financial District</td>\n",
       "      <td> transit</td>\n",
       "      <td> 3182</td>\n",
       "    </tr>\n",
       "  </tbody>\n",
       "</table>\n",
       "</div>"
      ],
      "text/plain": [
       "   entry_id           timestamp            datetime       origins  \\\n",
       "0         1 2015-04-20 01:14:42 2015-04-20 08:14:42  Outer Sunset   \n",
       "1         1 2015-04-27 02:32:58 2015-04-27 09:32:56       Oakland   \n",
       "2         2 2015-04-20 01:14:42 2015-04-20 08:14:42  Outer Sunset   \n",
       "3         2 2015-04-27 02:32:58 2015-04-27 09:32:56       Oakland   \n",
       "4         3 2015-04-20 01:14:42 2015-04-20 08:14:42    Noe Valley   \n",
       "\n",
       "         destinations travel_mode  duration  \n",
       "0  Financial District     transit      2661  \n",
       "1     Pacific Heights     driving      1750  \n",
       "2             Oakland     transit      6056  \n",
       "3      Outer Richmond     driving      2089  \n",
       "4  Financial District     transit      3182  "
      ]
     },
     "execution_count": 195,
     "metadata": {},
     "output_type": "execute_result"
    }
   ],
   "source": [
    "combined_df3.ix[:,0:7].head() #focusing data in on the duration value (let's forget about distance, etc.)"
   ]
  },
  {
   "cell_type": "markdown",
   "metadata": {},
   "source": [
    "####Now let's work to separate out weekends from the data (perhaps create a separate dataframe for weekends/weekdays)"
   ]
  },
  {
   "cell_type": "code",
   "execution_count": null,
   "metadata": {
    "collapsed": true
   },
   "outputs": [],
   "source": [
    "combined_df3.to_csv('maps_may12_afternoon_"
   ]
  },
  {
   "cell_type": "code",
   "execution_count": null,
   "metadata": {
    "collapsed": true
   },
   "outputs": [],
   "source": []
  },
  {
   "cell_type": "code",
   "execution_count": null,
   "metadata": {
    "collapsed": true
   },
   "outputs": [],
   "source": []
  },
  {
   "cell_type": "code",
   "execution_count": null,
   "metadata": {
    "collapsed": true
   },
   "outputs": [],
   "source": [
    "#write to csv\n",
    "#df.to_csv('foo.csv')\n",
    "#read from csv\n",
    "#pd.read_csv('foo.csv')"
   ]
  }
 ],
 "metadata": {
  "kernelspec": {
   "display_name": "Python 2",
   "language": "python",
   "name": "python2"
  },
  "language_info": {
   "codemirror_mode": {
    "name": "ipython",
    "version": 2
   },
   "file_extension": ".py",
   "mimetype": "text/x-python",
   "name": "python",
   "nbconvert_exporter": "python",
   "pygments_lexer": "ipython2",
   "version": "2.7.9"
  }
 },
 "nbformat": 4,
 "nbformat_minor": 0
}
