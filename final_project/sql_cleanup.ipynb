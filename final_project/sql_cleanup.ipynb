{
 "cells": [
  {
   "cell_type": "markdown",
   "metadata": {},
   "source": []
  },
  {
   "cell_type": "code",
   "execution_count": 72,
   "metadata": {
    "collapsed": false
   },
   "outputs": [],
   "source": [
    "import numpy as np\n",
    "import pandas as pd\n",
    "import MySQLdb as mdb\n",
    "import MySQL_data_file as MySQL_data"
   ]
  },
  {
   "cell_type": "code",
   "execution_count": 178,
   "metadata": {
    "collapsed": true
   },
   "outputs": [],
   "source": [
    "con = mdb.connect(MySQL_data.my_sql_host, MySQL_data.my_sql_user,\\\n",
    "                    MySQL_data.my_sql_passwd,\\\n",
    "                    MySQL_data.my_sql_database)\n",
    "#need to add a cell at end of document that closes con"
   ]
  },
  {
   "cell_type": "code",
   "execution_count": 179,
   "metadata": {
    "collapsed": false
   },
   "outputs": [],
   "source": [
    "def run_sql(query):\n",
    "    cur = con.cursor()\n",
    "    cur.execute(query)\n",
    "    con.commit()\n",
    "    #con.close()\n",
    "    return cur.fetchall()"
   ]
  },
  {
   "cell_type": "code",
   "execution_count": 176,
   "metadata": {
    "collapsed": false,
    "scrolled": true
   },
   "outputs": [],
   "source": [
    "#run_sql(\"\"\"SHOW TABLES\"\"\")\n",
    "#run_sql(\"\"\"SELECT datetime,origins,destinations,duration FROM gmaps_data\"\"\")\n",
    "#table_count = run_sql(\"\"\"SELECT datetime, FROM gmaps_data limit 1\"\"\")"
   ]
  },
  {
   "cell_type": "code",
   "execution_count": 181,
   "metadata": {
    "collapsed": false
   },
   "outputs": [
    {
     "data": {
      "text/plain": [
       "'2015-04-20 08:14:42'"
      ]
     },
     "execution_count": 181,
     "metadata": {},
     "output_type": "execute_result"
    }
   ],
   "source": [
    "#Converting datetime to ISO format in Python\n",
    "sample_datetime_object = run_sql(\"\"\"SELECT datetime FROM gmaps_data limit 1\"\"\")\n",
    "#sample_datetime_object[0][0].isoformat(\" \")"
   ]
  },
  {
   "cell_type": "code",
   "execution_count": 207,
   "metadata": {
    "collapsed": false
   },
   "outputs": [
    {
     "data": {
      "text/plain": [
       "(('%Y-%m-%d %H:%i:%s',),)"
      ]
     },
     "execution_count": 207,
     "metadata": {},
     "output_type": "execute_result"
    }
   ],
   "source": [
    "#Working with timestamps and time functions in SQL\n",
    "#run_sql(\"\"\"SELECT CURRENT_TIMESTAMP\"\"\")#or NOW() or CURRENT_TIMESTAMP()\n",
    "#run_sql(\"\"\"SELECT HOUR(datetime) FROM gmaps_data limit 10\"\"\")\n",
    "#run_sql(\"\"\"SELECT UNIX_TIMESTAMP(datetime) FROM gmaps_data limit 10\"\"\")\n",
    "run_sql(\"\"\"SELECT GET_FORMAT(datetime, 'ISO') FROM gmaps_data limit 1\"\"\")"
   ]
  },
  {
   "cell_type": "code",
   "execution_count": 220,
   "metadata": {
    "collapsed": false
   },
   "outputs": [
    {
     "data": {
      "text/plain": [
       "(('2015-04-20 08:14:42',),)"
      ]
     },
     "execution_count": 220,
     "metadata": {},
     "output_type": "execute_result"
    }
   ],
   "source": [
    "#retrieving time data in ISO format (through SQL)\n",
    "run_sql(\"\"\"SELECT DATE_FORMAT(datetime, '%Y-%m-%d %H:%i:%s') FROM gmaps_data limit 1\"\"\")\n",
    "#converting to PST time zone\n",
    "#run_sql(\"\"\"SELECT CONVERT_TZ(DATE_FORMAT(datetime, '%Y-%m-%d %H:%i:%s'),'+00:00','-07:00') FROM gmaps_data limit 1\"\"\")"
   ]
  },
  {
   "cell_type": "code",
   "execution_count": null,
   "metadata": {
    "collapsed": false
   },
   "outputs": [],
   "source": []
  },
  {
   "cell_type": "code",
   "execution_count": null,
   "metadata": {
    "collapsed": true
   },
   "outputs": [],
   "source": []
  },
  {
   "cell_type": "code",
   "execution_count": null,
   "metadata": {
    "collapsed": true
   },
   "outputs": [],
   "source": []
  },
  {
   "cell_type": "code",
   "execution_count": null,
   "metadata": {
    "collapsed": true
   },
   "outputs": [],
   "source": []
  }
 ],
 "metadata": {
  "kernelspec": {
   "display_name": "Python 2",
   "language": "python",
   "name": "python2"
  },
  "language_info": {
   "codemirror_mode": {
    "name": "ipython",
    "version": 2
   },
   "file_extension": ".py",
   "mimetype": "text/x-python",
   "name": "python",
   "nbconvert_exporter": "python",
   "pygments_lexer": "ipython2",
   "version": "2.7.9"
  }
 },
 "nbformat": 4,
 "nbformat_minor": 0
}
