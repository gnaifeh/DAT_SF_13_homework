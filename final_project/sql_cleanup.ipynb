{
 "cells": [
  {
   "cell_type": "markdown",
   "metadata": {},
   "source": [
    "# SQL Cleaning Maps Data for Final Project"
   ]
  },
  {
   "cell_type": "markdown",
   "metadata": {},
   "source": [
    "####Import key libraries and data file with information to connect to MySQL"
   ]
  },
  {
   "cell_type": "code",
   "execution_count": 304,
   "metadata": {
    "collapsed": false
   },
   "outputs": [],
   "source": [
    "import numpy as np\n",
    "import pandas as pd\n",
    "import MySQLdb as mdb\n",
    "import MySQL_data_file as MySQL_data"
   ]
  },
  {
   "cell_type": "markdown",
   "metadata": {},
   "source": [
    "####Create connection object \"con\" for accessing databases:"
   ]
  },
  {
   "cell_type": "code",
   "execution_count": 305,
   "metadata": {
    "collapsed": true
   },
   "outputs": [],
   "source": [
    "con = mdb.connect(MySQL_data.my_sql_host, MySQL_data.my_sql_user,\\\n",
    "                    MySQL_data.my_sql_passwd,\\\n",
    "                    MySQL_data.my_sql_database)\n",
    "#con.close"
   ]
  },
  {
   "cell_type": "markdown",
   "metadata": {},
   "source": [
    "####Define key functions for querying information from MySQL databases:"
   ]
  },
  {
   "cell_type": "code",
   "execution_count": 306,
   "metadata": {
    "collapsed": false
   },
   "outputs": [],
   "source": [
    "def table_information(table_name, columns_only=False):\n",
    "    \"\"\"\n",
    "    Function returns table information. Will return list of columns if columns_only is set\n",
    "    \"\"\"\n",
    "    cur = con.cursor()\n",
    "    cur.execute(\"DESCRIBE {}\".format(table_name))\n",
    "    if columns_only == False:\n",
    "        return [x for x in cur.fetchall()]\n",
    "    else:\n",
    "        #column_list = []\n",
    "        return [row[0:1][0] for row in cur.fetchall()]      \n",
    "#table_information('mmaps_data', True)"
   ]
  },
  {
   "cell_type": "code",
   "execution_count": 307,
   "metadata": {
    "collapsed": false
   },
   "outputs": [],
   "source": [
    "def run_sql(query):\n",
    "    cur = con.cursor()\n",
    "    cur.execute(query)\n",
    "    con.commit()\n",
    "    #con.close()\n",
    "    return cur.fetchall()"
   ]
  },
  {
   "cell_type": "markdown",
   "metadata": {},
   "source": [
    "####Initial Test Queries"
   ]
  },
  {
   "cell_type": "code",
   "execution_count": 176,
   "metadata": {
    "collapsed": false,
    "scrolled": true
   },
   "outputs": [],
   "source": [
    "#run_sql(\"\"\"SHOW TABLES\"\"\")\n",
    "#run_sql(\"\"\"SELECT datetime,origins,destinations,duration FROM gmaps_data\"\"\")\n",
    "#table_count = run_sql(\"\"\"SELECT datetime, FROM gmaps_data limit 1\"\"\")"
   ]
  },
  {
   "cell_type": "markdown",
   "metadata": {},
   "source": [
    "####Adjusting Date and Time Formats in Python"
   ]
  },
  {
   "cell_type": "code",
   "execution_count": 321,
   "metadata": {
    "collapsed": false
   },
   "outputs": [],
   "source": [
    "#Converting datetime to ISO format in Python\n",
    "sample_dt_object = run_sql(\"\"\"SELECT datetime FROM gmaps_data limit 1\"\"\")\n",
    "sample_dt_object_iso = sample_dt_object[0][0].isoformat(\" \")\n",
    "#sample_dt_object_iso"
   ]
  },
  {
   "cell_type": "markdown",
   "metadata": {},
   "source": [
    "####Adjusting Date and Time Formats in SQL"
   ]
  },
  {
   "cell_type": "code",
   "execution_count": 323,
   "metadata": {
    "collapsed": false
   },
   "outputs": [],
   "source": [
    "#Working with timestamps and time functions in SQL\n",
    "#run_sql(\"\"\"SELECT CURRENT_TIMESTAMP\"\"\")#or NOW() or CURRENT_TIMESTAMP()\n",
    "#run_sql(\"\"\"SELECT HOUR(datetime) FROM gmaps_data limit 10\"\"\")\n",
    "#run_sql(\"\"\"SELECT UNIX_TIMESTAMP(datetime) FROM gmaps_data limit 10\"\"\")\n",
    "#run_sql(\"\"\"SELECT GET_FORMAT(datetime, 'ISO') FROM gmaps_data limit 1\"\"\")"
   ]
  },
  {
   "cell_type": "code",
   "execution_count": 325,
   "metadata": {
    "collapsed": false
   },
   "outputs": [],
   "source": [
    "#retrieving time data in ISO format (through SQL)\n",
    "#run_sql(\"\"\"SELECT DATE_FORMAT(datetime, '%Y-%m-%d %H:%i:%s') FROM gmaps_data limit 3\"\"\")\n",
    "#converting to PST time zone\n",
    "#run_sql(\"\"\"SELECT CONVERT_TZ(DATE_FORMAT(datetime, '%Y-%m-%d %H:%i:%s'),'+00:00','-07:00') FROM gmaps_data limit 1\"\"\")"
   ]
  },
  {
   "cell_type": "code",
   "execution_count": 120,
   "metadata": {
    "collapsed": false
   },
   "outputs": [
    {
     "data": {
      "text/plain": [
       "(('2015-05-02 11:00:02',\n",
       "  'Pacific Heights, San Francisco, CA',\n",
       "  'Oakland, CA',\n",
       "  2005L),)"
      ]
     },
     "execution_count": 120,
     "metadata": {},
     "output_type": "execute_result"
    }
   ],
   "source": [
    "run_sql(\"\"\"SELECT DATE_FORMAT(datetime, '%Y-%m-%d %H:%i:%s'),origins,destinations,duration_traffic \n",
    "        FROM mmaps_data\n",
    "        WHERE datetime BETWEEN '2015-05-02 11:00:00' AND '2015-05-02 11:14:00'\n",
    "        AND origins LIKE 'Pac%'\n",
    "        LIMIT 1\n",
    "        \"\"\")"
   ]
  },
  {
   "cell_type": "code",
   "execution_count": 129,
   "metadata": {
    "collapsed": false
   },
   "outputs": [
    {
     "data": {
      "text/plain": [
       "58"
      ]
     },
     "execution_count": 129,
     "metadata": {},
     "output_type": "execute_result"
    }
   ],
   "source": [
    "#The code below shows transit data between 2am and 11am on Saturday May 2 \n",
    "#traveling from Pac Heights to Financial District\n",
    "len(run_sql(\"\"\"SELECT DATE_FORMAT(datetime, '%Y-%m-%d %H:%i:%s'),origins,destinations,duration_traffic \n",
    "        FROM mmaps_data\n",
    "        WHERE \n",
    "            ((datetime BETWEEN '2015-05-01 11:00:00' AND '2015-05-01 18:01:00')\n",
    "            OR \n",
    "            (datetime BETWEEN '2015-05-01 21:00:00' AND '2015-05-02 04:01:00'))\n",
    "        AND \n",
    "            ((origins LIKE 'Pac%' AND destinations LIKE 'Fin%')\n",
    "            OR \n",
    "            (origins LIKE 'Fin%'and destinations LIKE 'Pac%'))\n",
    "        ORDER BY datetime\n",
    "        \"\"\"))"
   ]
  },
  {
   "cell_type": "code",
   "execution_count": 168,
   "metadata": {
    "collapsed": false
   },
   "outputs": [
    {
     "data": {
      "text/plain": [
       "(('2015-05-01 11:00:03',\n",
       "  'Pacific Heights, San Francisco, CA',\n",
       "  'Financial District, San Francisco, CA',\n",
       "  767L),)"
      ]
     },
     "execution_count": 168,
     "metadata": {},
     "output_type": "execute_result"
    }
   ],
   "source": [
    "#different style but same result as previous SQL statement\n",
    "run_sql(\"\"\"SELECT DATE_FORMAT(datetime, '%Y-%m-%d %H:%i:%s'),origins,destinations,duration_traffic \n",
    "        FROM mmaps_data\n",
    "        WHERE \n",
    "        ((datetime BETWEEN '2015-05-01 11:00:00' AND '2015-05-01 18:01:00')\n",
    "        AND (origins LIKE 'Pac%') AND (destinations LIKE 'Fin%')) \n",
    "        OR\n",
    "        ((datetime BETWEEN '2015-05-01 21:00:00' AND '2015-05-02 04:01:00')\n",
    "        AND (origins LIKE 'Fin%') AND (destinations LIKE 'Pac%')) \n",
    "        ORDER BY datetime\n",
    "        LIMIT 1\n",
    "        \"\"\")"
   ]
  },
  {
   "cell_type": "code",
   "execution_count": 191,
   "metadata": {
    "collapsed": false
   },
   "outputs": [
    {
     "data": {
      "text/plain": [
       "327"
      ]
     },
     "execution_count": 191,
     "metadata": {},
     "output_type": "execute_result"
    }
   ],
   "source": [
    "#different style but same result as previous SQL statement\n",
    "#all of the data is sorted in the ideal way (seconds, minutes, hours, dates)\n",
    "#so we can see the duration values for the same time over multiple days\n",
    "#next to each other with respect to the rows\n",
    "len(run_sql(\"\"\"SELECT DATE_FORMAT(datetime, '%Y-%m-%d %H:%i:%s'),origins,destinations,duration_traffic \n",
    "        FROM mmaps_data\n",
    "        WHERE \n",
    "        ((TIME(datetime) BETWEEN '11:00:00' AND '18:01:00')\n",
    "        AND (origins LIKE 'Pac%') AND (destinations LIKE 'Fin%')) \n",
    "        OR\n",
    "        ((TIME(datetime) BETWEEN '21:00:00' AND '24:00:00' OR\n",
    "        (TIME(datetime) BETWEEN '00:00:00' AND '04:01:00'))\n",
    "        AND (origins LIKE 'Fin%') AND (destinations LIKE 'Pac%'))\n",
    "        ORDER BY HOUR(datetime), MINUTE(datetime), DATE(datetime)\n",
    "        \"\"\"))"
   ]
  },
  {
   "cell_type": "code",
   "execution_count": 9,
   "metadata": {
    "collapsed": false
   },
   "outputs": [
    {
     "data": {
      "text/plain": [
       "(('2015-04-27 11:00:03',\n",
       "  'Pacific Heights, San Francisco, CA',\n",
       "  'Financial District, San Francisco, CA',\n",
       "  723L),)"
      ]
     },
     "execution_count": 9,
     "metadata": {},
     "output_type": "execute_result"
    }
   ],
   "source": [
    "#Took the code from above and specified the query such that we are looking\n",
    "#at the morning driving times for the commute from pac heights to financial district\n",
    "run_sql(\"\"\"SELECT DATE_FORMAT(datetime, '%Y-%m-%d %H:%i:%s'),origins,destinations,duration_traffic\n",
    "        FROM mmaps_data\n",
    "        WHERE \n",
    "        ((TIME(datetime) BETWEEN '11:00:00' AND '18:01:00')\n",
    "        AND (origins LIKE 'Pac%') AND (destinations LIKE 'Fin%'))\n",
    "        ORDER BY HOUR(datetime), MINUTE(datetime), DATE(datetime)\n",
    "        LIMIT 1\n",
    "        \"\"\")"
   ]
  },
  {
   "cell_type": "code",
   "execution_count": 14,
   "metadata": {
    "collapsed": false
   },
   "outputs": [
    {
     "data": {
      "text/plain": [
       "(('Financial District, San Francisco, CA',),\n",
       " ('Oakland, CA',),\n",
       " ('Mountain View, CA',),\n",
       " ('Berkeley, CA',),\n",
       " ('Outer Sunset, San Francisco, CA',),\n",
       " ('Noe Valley, San+Francisco, CA',),\n",
       " ('Pacific Heights, San Francisco, CA',),\n",
       " ('Outer Richmond, San+Francisco, CA',),\n",
       " ('Mission District, San Francisco, CA',),\n",
       " ('Russian Hill, San Francisco, CA',),\n",
       " ('North Beach, San Francisco, CA',))"
      ]
     },
     "execution_count": 14,
     "metadata": {},
     "output_type": "execute_result"
    }
   ],
   "source": [
    "run_sql(\"\"\"select DISTINCT destinations from gmaps_data\"\"\")"
   ]
  },
  {
   "cell_type": "code",
   "execution_count": 267,
   "metadata": {
    "collapsed": false
   },
   "outputs": [
    {
     "data": {
      "text/plain": [
       "()"
      ]
     },
     "execution_count": 267,
     "metadata": {},
     "output_type": "execute_result"
    }
   ],
   "source": [
    "#update one of the tables to remove USA\n",
    "run_sql(\"\"\"UPDATE gmaps_data\n",
    "        SET destinations=(SELECT DISTINCT destinations FROM mmaps_data WHERE destinations LIKE 'North%')\n",
    "        WHERE destinations LIKE 'North%'\n",
    "        \"\"\")"
   ]
  },
  {
   "cell_type": "code",
   "execution_count": 138,
   "metadata": {
    "collapsed": true
   },
   "outputs": [],
   "source": [
    "#join tables"
   ]
  },
  {
   "cell_type": "code",
   "execution_count": 270,
   "metadata": {
    "collapsed": false
   },
   "outputs": [
    {
     "data": {
      "text/plain": [
       "464"
      ]
     },
     "execution_count": 270,
     "metadata": {},
     "output_type": "execute_result"
    }
   ],
   "source": [
    "#Below is an example of combining the two tables with union\n",
    "#NOTE: this is not preferrable because you cannot ORDER BY datetime without error\n",
    "len(run_sql(\"\"\"SELECT DATE_FORMAT(datetime, '%Y-%m-%d %H:%i:%s'),origins,destinations,duration_traffic,travel_mode\n",
    "        FROM mmaps_data\n",
    "        WHERE \n",
    "        ((TIME(datetime) BETWEEN '11:00:00' AND '18:01:00')\n",
    "        AND (origins LIKE 'Pac%') AND (destinations LIKE 'Fin%'))\n",
    "        UNION ALL\n",
    "        SELECT DATE_FORMAT(datetime, '%Y-%m-%d %H:%i:%s'),origins,destinations,duration,travel_mode\n",
    "        FROM gmaps_data\n",
    "        WHERE \n",
    "        ((TIME(datetime) BETWEEN '11:00:00' AND '18:01:00')\n",
    "        AND (origins LIKE 'Pac%') AND (destinations LIKE 'Fin%'))\n",
    "        \"\"\"))"
   ]
  },
  {
   "cell_type": "code",
   "execution_count": 268,
   "metadata": {
    "collapsed": true
   },
   "outputs": [],
   "source": [
    "#Try An update statement"
   ]
  },
  {
   "cell_type": "code",
   "execution_count": null,
   "metadata": {
    "collapsed": false,
    "scrolled": true
   },
   "outputs": [],
   "source": [
    "#try some sort of inner join"
   ]
  },
  {
   "cell_type": "code",
   "execution_count": 52,
   "metadata": {
    "collapsed": false
   },
   "outputs": [
    {
     "data": {
      "text/plain": [
       "(('11:00', 'Berkeley, CA', 'Mountain View, CA', Decimal('59.83611111')),)"
      ]
     },
     "execution_count": 52,
     "metadata": {},
     "output_type": "execute_result"
    }
   ],
   "source": [
    "run_sql(\"\"\"SELECT DATE_FORMAT(datetime,'%H:%i') as datetime, origins, destinations, AVG(duration_traffic) / 60 as MINUTES\n",
    "        FROM mmaps_data\n",
    "        WHERE \n",
    "        ((TIME(datetime) BETWEEN '11:00:00' AND '18:01:00')\n",
    "        AND (origins LIKE 'Berk%') AND (destinations LIKE 'Moun%'))\n",
    "        GROUP BY HOUR(datetime), MINUTE(datetime)\n",
    "        ORDER BY HOUR(datetime), MINUTE(datetime), DATE(datetime)\n",
    "        LIMIT 1\n",
    "        \"\"\")"
   ]
  },
  {
   "cell_type": "code",
   "execution_count": 100,
   "metadata": {
    "collapsed": false
   },
   "outputs": [
    {
     "data": {
      "text/html": [
       "<div style=\"max-height:1000px;max-width:1500px;overflow:auto;\">\n",
       "<table border=\"1\" class=\"dataframe\">\n",
       "  <thead>\n",
       "    <tr style=\"text-align: right;\">\n",
       "      <th></th>\n",
       "      <th>datetime</th>\n",
       "      <th>origins</th>\n",
       "      <th>destinations</th>\n",
       "      <th>MINUTES</th>\n",
       "    </tr>\n",
       "  </thead>\n",
       "  <tbody>\n",
       "    <tr>\n",
       "      <th>0 </th>\n",
       "      <td> 11:00</td>\n",
       "      <td>                        Berkeley, CA</td>\n",
       "      <td> Financial District, San Francisco, CA</td>\n",
       "      <td> 27.136111</td>\n",
       "    </tr>\n",
       "    <tr>\n",
       "      <th>1 </th>\n",
       "      <td> 11:00</td>\n",
       "      <td>                        Berkeley, CA</td>\n",
       "      <td>                     Mountain View, CA</td>\n",
       "      <td> 59.836111</td>\n",
       "    </tr>\n",
       "    <tr>\n",
       "      <th>2 </th>\n",
       "      <td> 11:00</td>\n",
       "      <td>                        Berkeley, CA</td>\n",
       "      <td>                           Oakland, CA</td>\n",
       "      <td> 17.683333</td>\n",
       "    </tr>\n",
       "    <tr>\n",
       "      <th>3 </th>\n",
       "      <td> 11:00</td>\n",
       "      <td> Mission District, San Francisco, CA</td>\n",
       "      <td> Financial District, San Francisco, CA</td>\n",
       "      <td> 23.919444</td>\n",
       "    </tr>\n",
       "    <tr>\n",
       "      <th>4 </th>\n",
       "      <td> 11:00</td>\n",
       "      <td> Mission District, San Francisco, CA</td>\n",
       "      <td>                     Mountain View, CA</td>\n",
       "      <td> 43.208333</td>\n",
       "    </tr>\n",
       "    <tr>\n",
       "      <th>5 </th>\n",
       "      <td> 11:00</td>\n",
       "      <td> Mission District, San Francisco, CA</td>\n",
       "      <td>                           Oakland, CA</td>\n",
       "      <td> 26.119444</td>\n",
       "    </tr>\n",
       "    <tr>\n",
       "      <th>6 </th>\n",
       "      <td> 11:00</td>\n",
       "      <td>       Noe Valley, San+Francisco, CA</td>\n",
       "      <td> Financial District, San Francisco, CA</td>\n",
       "      <td> 25.761111</td>\n",
       "    </tr>\n",
       "    <tr>\n",
       "      <th>7 </th>\n",
       "      <td> 11:00</td>\n",
       "      <td>       Noe Valley, San+Francisco, CA</td>\n",
       "      <td>                     Mountain View, CA</td>\n",
       "      <td> 46.627778</td>\n",
       "    </tr>\n",
       "    <tr>\n",
       "      <th>8 </th>\n",
       "      <td> 11:00</td>\n",
       "      <td>       Noe Valley, San+Francisco, CA</td>\n",
       "      <td>                           Oakland, CA</td>\n",
       "      <td> 30.791667</td>\n",
       "    </tr>\n",
       "    <tr>\n",
       "      <th>9 </th>\n",
       "      <td> 11:00</td>\n",
       "      <td>      North Beach, San Francisco, CA</td>\n",
       "      <td> Financial District, San Francisco, CA</td>\n",
       "      <td>  6.444444</td>\n",
       "    </tr>\n",
       "    <tr>\n",
       "      <th>10</th>\n",
       "      <td> 11:00</td>\n",
       "      <td>      North Beach, San Francisco, CA</td>\n",
       "      <td>                     Mountain View, CA</td>\n",
       "      <td> 53.163889</td>\n",
       "    </tr>\n",
       "    <tr>\n",
       "      <th>11</th>\n",
       "      <td> 11:00</td>\n",
       "      <td>      North Beach, San Francisco, CA</td>\n",
       "      <td>                           Oakland, CA</td>\n",
       "      <td> 26.138889</td>\n",
       "    </tr>\n",
       "    <tr>\n",
       "      <th>12</th>\n",
       "      <td> 11:00</td>\n",
       "      <td>                         Oakland, CA</td>\n",
       "      <td> Financial District, San Francisco, CA</td>\n",
       "      <td> 21.452778</td>\n",
       "    </tr>\n",
       "    <tr>\n",
       "      <th>13</th>\n",
       "      <td> 11:00</td>\n",
       "      <td>                         Oakland, CA</td>\n",
       "      <td>                     Mountain View, CA</td>\n",
       "      <td> 47.475000</td>\n",
       "    </tr>\n",
       "    <tr>\n",
       "      <th>14</th>\n",
       "      <td> 11:00</td>\n",
       "      <td>   Outer Richmond, San+Francisco, CA</td>\n",
       "      <td> Financial District, San Francisco, CA</td>\n",
       "      <td> 28.727778</td>\n",
       "    </tr>\n",
       "    <tr>\n",
       "      <th>15</th>\n",
       "      <td> 11:00</td>\n",
       "      <td>   Outer Richmond, San+Francisco, CA</td>\n",
       "      <td>                     Mountain View, CA</td>\n",
       "      <td> 51.955556</td>\n",
       "    </tr>\n",
       "    <tr>\n",
       "      <th>16</th>\n",
       "      <td> 11:00</td>\n",
       "      <td>   Outer Richmond, San+Francisco, CA</td>\n",
       "      <td>                           Oakland, CA</td>\n",
       "      <td> 37.369444</td>\n",
       "    </tr>\n",
       "    <tr>\n",
       "      <th>17</th>\n",
       "      <td> 11:00</td>\n",
       "      <td>     Outer Sunset, San Francisco, CA</td>\n",
       "      <td> Financial District, San Francisco, CA</td>\n",
       "      <td> 32.344444</td>\n",
       "    </tr>\n",
       "    <tr>\n",
       "      <th>18</th>\n",
       "      <td> 11:00</td>\n",
       "      <td>     Outer Sunset, San Francisco, CA</td>\n",
       "      <td>                     Mountain View, CA</td>\n",
       "      <td> 48.252778</td>\n",
       "    </tr>\n",
       "    <tr>\n",
       "      <th>19</th>\n",
       "      <td> 11:00</td>\n",
       "      <td>     Outer Sunset, San Francisco, CA</td>\n",
       "      <td>                           Oakland, CA</td>\n",
       "      <td> 37.463889</td>\n",
       "    </tr>\n",
       "    <tr>\n",
       "      <th>20</th>\n",
       "      <td> 11:00</td>\n",
       "      <td>  Pacific Heights, San Francisco, CA</td>\n",
       "      <td> Financial District, San Francisco, CA</td>\n",
       "      <td> 12.566667</td>\n",
       "    </tr>\n",
       "    <tr>\n",
       "      <th>21</th>\n",
       "      <td> 11:00</td>\n",
       "      <td>  Pacific Heights, San Francisco, CA</td>\n",
       "      <td>                     Mountain View, CA</td>\n",
       "      <td> 53.788889</td>\n",
       "    </tr>\n",
       "    <tr>\n",
       "      <th>22</th>\n",
       "      <td> 11:00</td>\n",
       "      <td>  Pacific Heights, San Francisco, CA</td>\n",
       "      <td>                           Oakland, CA</td>\n",
       "      <td> 31.969444</td>\n",
       "    </tr>\n",
       "    <tr>\n",
       "      <th>23</th>\n",
       "      <td> 11:00</td>\n",
       "      <td>     Russian Hill, San Francisco, CA</td>\n",
       "      <td> Financial District, San Francisco, CA</td>\n",
       "      <td> 10.325000</td>\n",
       "    </tr>\n",
       "    <tr>\n",
       "      <th>24</th>\n",
       "      <td> 11:00</td>\n",
       "      <td>     Russian Hill, San Francisco, CA</td>\n",
       "      <td>                     Mountain View, CA</td>\n",
       "      <td> 56.025000</td>\n",
       "    </tr>\n",
       "    <tr>\n",
       "      <th>25</th>\n",
       "      <td> 11:00</td>\n",
       "      <td>     Russian Hill, San Francisco, CA</td>\n",
       "      <td>                           Oakland, CA</td>\n",
       "      <td> 30.966667</td>\n",
       "    </tr>\n",
       "  </tbody>\n",
       "</table>\n",
       "</div>"
      ],
      "text/plain": [
       "   datetime                              origins  \\\n",
       "0     11:00                         Berkeley, CA   \n",
       "1     11:00                         Berkeley, CA   \n",
       "2     11:00                         Berkeley, CA   \n",
       "3     11:00  Mission District, San Francisco, CA   \n",
       "4     11:00  Mission District, San Francisco, CA   \n",
       "5     11:00  Mission District, San Francisco, CA   \n",
       "6     11:00        Noe Valley, San+Francisco, CA   \n",
       "7     11:00        Noe Valley, San+Francisco, CA   \n",
       "8     11:00        Noe Valley, San+Francisco, CA   \n",
       "9     11:00       North Beach, San Francisco, CA   \n",
       "10    11:00       North Beach, San Francisco, CA   \n",
       "11    11:00       North Beach, San Francisco, CA   \n",
       "12    11:00                          Oakland, CA   \n",
       "13    11:00                          Oakland, CA   \n",
       "14    11:00    Outer Richmond, San+Francisco, CA   \n",
       "15    11:00    Outer Richmond, San+Francisco, CA   \n",
       "16    11:00    Outer Richmond, San+Francisco, CA   \n",
       "17    11:00      Outer Sunset, San Francisco, CA   \n",
       "18    11:00      Outer Sunset, San Francisco, CA   \n",
       "19    11:00      Outer Sunset, San Francisco, CA   \n",
       "20    11:00   Pacific Heights, San Francisco, CA   \n",
       "21    11:00   Pacific Heights, San Francisco, CA   \n",
       "22    11:00   Pacific Heights, San Francisco, CA   \n",
       "23    11:00      Russian Hill, San Francisco, CA   \n",
       "24    11:00      Russian Hill, San Francisco, CA   \n",
       "25    11:00      Russian Hill, San Francisco, CA   \n",
       "\n",
       "                             destinations    MINUTES  \n",
       "0   Financial District, San Francisco, CA  27.136111  \n",
       "1                       Mountain View, CA  59.836111  \n",
       "2                             Oakland, CA  17.683333  \n",
       "3   Financial District, San Francisco, CA  23.919444  \n",
       "4                       Mountain View, CA  43.208333  \n",
       "5                             Oakland, CA  26.119444  \n",
       "6   Financial District, San Francisco, CA  25.761111  \n",
       "7                       Mountain View, CA  46.627778  \n",
       "8                             Oakland, CA  30.791667  \n",
       "9   Financial District, San Francisco, CA   6.444444  \n",
       "10                      Mountain View, CA  53.163889  \n",
       "11                            Oakland, CA  26.138889  \n",
       "12  Financial District, San Francisco, CA  21.452778  \n",
       "13                      Mountain View, CA  47.475000  \n",
       "14  Financial District, San Francisco, CA  28.727778  \n",
       "15                      Mountain View, CA  51.955556  \n",
       "16                            Oakland, CA  37.369444  \n",
       "17  Financial District, San Francisco, CA  32.344444  \n",
       "18                      Mountain View, CA  48.252778  \n",
       "19                            Oakland, CA  37.463889  \n",
       "20  Financial District, San Francisco, CA  12.566667  \n",
       "21                      Mountain View, CA  53.788889  \n",
       "22                            Oakland, CA  31.969444  \n",
       "23  Financial District, San Francisco, CA  10.325000  \n",
       "24                      Mountain View, CA  56.025000  \n",
       "25                            Oakland, CA  30.966667  "
      ]
     },
     "execution_count": 100,
     "metadata": {},
     "output_type": "execute_result"
    }
   ],
   "source": [
    "test_df = pd.read_sql(\"\"\"SELECT DATE_FORMAT(datetime,'%H:%i') as datetime, origins, destinations, AVG(duration_traffic) / 60 as MINUTES\n",
    "        FROM mmaps_data\n",
    "        WHERE \n",
    "        (TIME(datetime) BETWEEN '11:00:00' AND '18:01:00')\n",
    "        GROUP BY origins,destinations,HOUR(datetime), MINUTE(datetime)\n",
    "        ORDER BY HOUR(datetime), MINUTE(datetime),origins,destinations\n",
    "        \"\"\", con)\n",
    "test_df.head(26)"
   ]
  },
  {
   "cell_type": "code",
   "execution_count": null,
   "metadata": {
    "collapsed": false
   },
   "outputs": [],
   "source": []
  },
  {
   "cell_type": "markdown",
   "metadata": {},
   "source": [
    "####Combinging latest google and bing maps data into dataframes below:"
   ]
  },
  {
   "cell_type": "code",
   "execution_count": 279,
   "metadata": {
    "collapsed": false
   },
   "outputs": [],
   "source": [
    "this_df1 = pd.read_sql(\"\"\"SELECT entry_id,timestamp,datetime,origins,destinations,travel_mode,duration,distance,fare\n",
    "                        FROM gmaps_data\"\"\",con)"
   ]
  },
  {
   "cell_type": "code",
   "execution_count": 280,
   "metadata": {
    "collapsed": false
   },
   "outputs": [],
   "source": [
    "this_df2 = pd.read_sql(\"\"\"SELECT entry_id,timestamp,datetime,origins,destinations,travel_mode,duration_traffic,distance,congestion\n",
    "                        FROM mmaps_data\"\"\",con)"
   ]
  },
  {
   "cell_type": "code",
   "execution_count": 296,
   "metadata": {
    "collapsed": false
   },
   "outputs": [],
   "source": [
    "#print this_df1.columns\n",
    "#print this_df2.columns\n",
    "this_df2.columns = [u'entry_id', u'timestamp', u'datetime', u'origins', u'destinations', u'travel_mode', u'duration', u'distance', u'congestion']"
   ]
  },
  {
   "cell_type": "code",
   "execution_count": 285,
   "metadata": {
    "collapsed": true
   },
   "outputs": [],
   "source": [
    "this_df3 = this_df1.merge(this_df2, how='outer')"
   ]
  },
  {
   "cell_type": "code",
   "execution_count": 289,
   "metadata": {
    "collapsed": false
   },
   "outputs": [],
   "source": [
    "combined_df = this_df3.copy()"
   ]
  },
  {
   "cell_type": "code",
   "execution_count": 295,
   "metadata": {
    "collapsed": false
   },
   "outputs": [
    {
     "data": {
      "text/html": [
       "<div style=\"max-height:1000px;max-width:1500px;overflow:auto;\">\n",
       "<table border=\"1\" class=\"dataframe\">\n",
       "  <thead>\n",
       "    <tr style=\"text-align: right;\">\n",
       "      <th></th>\n",
       "      <th>timestamp</th>\n",
       "      <th>datetime</th>\n",
       "      <th>origins</th>\n",
       "      <th>destinations</th>\n",
       "      <th>travel_mode</th>\n",
       "      <th>duration</th>\n",
       "    </tr>\n",
       "  </thead>\n",
       "  <tbody>\n",
       "    <tr>\n",
       "      <th>0</th>\n",
       "      <td>2015-04-20 01:14:42</td>\n",
       "      <td>2015-04-20 08:14:42</td>\n",
       "      <td> Outer Sunset, San Francisco, CA, USA</td>\n",
       "      <td> Financial District, San Francisco, CA, USA</td>\n",
       "      <td> transit</td>\n",
       "      <td> 2661</td>\n",
       "    </tr>\n",
       "    <tr>\n",
       "      <th>1</th>\n",
       "      <td>2015-04-27 02:32:58</td>\n",
       "      <td>2015-04-27 09:32:56</td>\n",
       "      <td>                          Oakland, CA</td>\n",
       "      <td>         Pacific Heights, San Francisco, CA</td>\n",
       "      <td> driving</td>\n",
       "      <td> 1750</td>\n",
       "    </tr>\n",
       "    <tr>\n",
       "      <th>2</th>\n",
       "      <td>2015-04-20 01:14:42</td>\n",
       "      <td>2015-04-20 08:14:42</td>\n",
       "      <td> Outer Sunset, San Francisco, CA, USA</td>\n",
       "      <td>                           Oakland, CA, USA</td>\n",
       "      <td> transit</td>\n",
       "      <td> 6056</td>\n",
       "    </tr>\n",
       "    <tr>\n",
       "      <th>3</th>\n",
       "      <td>2015-04-27 02:32:58</td>\n",
       "      <td>2015-04-27 09:32:56</td>\n",
       "      <td>                          Oakland, CA</td>\n",
       "      <td>          Outer Richmond, San+Francisco, CA</td>\n",
       "      <td> driving</td>\n",
       "      <td> 2089</td>\n",
       "    </tr>\n",
       "    <tr>\n",
       "      <th>4</th>\n",
       "      <td>2015-04-20 01:14:42</td>\n",
       "      <td>2015-04-20 08:14:42</td>\n",
       "      <td>   Noe Valley, San Francisco, CA, USA</td>\n",
       "      <td> Financial District, San Francisco, CA, USA</td>\n",
       "      <td> transit</td>\n",
       "      <td> 3182</td>\n",
       "    </tr>\n",
       "  </tbody>\n",
       "</table>\n",
       "</div>"
      ],
      "text/plain": [
       "            timestamp            datetime  \\\n",
       "0 2015-04-20 01:14:42 2015-04-20 08:14:42   \n",
       "1 2015-04-27 02:32:58 2015-04-27 09:32:56   \n",
       "2 2015-04-20 01:14:42 2015-04-20 08:14:42   \n",
       "3 2015-04-27 02:32:58 2015-04-27 09:32:56   \n",
       "4 2015-04-20 01:14:42 2015-04-20 08:14:42   \n",
       "\n",
       "                                origins  \\\n",
       "0  Outer Sunset, San Francisco, CA, USA   \n",
       "1                           Oakland, CA   \n",
       "2  Outer Sunset, San Francisco, CA, USA   \n",
       "3                           Oakland, CA   \n",
       "4    Noe Valley, San Francisco, CA, USA   \n",
       "\n",
       "                                 destinations travel_mode  duration  \n",
       "0  Financial District, San Francisco, CA, USA     transit      2661  \n",
       "1          Pacific Heights, San Francisco, CA     driving      1750  \n",
       "2                            Oakland, CA, USA     transit      6056  \n",
       "3           Outer Richmond, San+Francisco, CA     driving      2089  \n",
       "4  Financial District, San Francisco, CA, USA     transit      3182  "
      ]
     },
     "execution_count": 295,
     "metadata": {},
     "output_type": "execute_result"
    }
   ],
   "source": [
    "#combined_df.info()\n",
    "combined_df.iloc[:5,1:7]"
   ]
  },
  {
   "cell_type": "code",
   "execution_count": null,
   "metadata": {
    "collapsed": true
   },
   "outputs": [],
   "source": []
  }
 ],
 "metadata": {
  "kernelspec": {
   "display_name": "Python 2",
   "language": "python",
   "name": "python2"
  },
  "language_info": {
   "codemirror_mode": {
    "name": "ipython",
    "version": 2
   },
   "file_extension": ".py",
   "mimetype": "text/x-python",
   "name": "python",
   "nbconvert_exporter": "python",
   "pygments_lexer": "ipython2",
   "version": "2.7.9"
  }
 },
 "nbformat": 4,
 "nbformat_minor": 0
}
