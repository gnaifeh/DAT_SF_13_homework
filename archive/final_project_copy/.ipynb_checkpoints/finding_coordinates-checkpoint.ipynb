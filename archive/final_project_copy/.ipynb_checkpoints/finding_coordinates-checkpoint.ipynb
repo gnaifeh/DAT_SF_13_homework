{
 "cells": [
  {
   "cell_type": "code",
   "execution_count": 65,
   "metadata": {
    "collapsed": false
   },
   "outputs": [],
   "source": [
    "import gmaps_query_data_file\n",
    "import json\n",
    "import urllib\n",
    "import urllib2"
   ]
  },
  {
   "cell_type": "code",
   "execution_count": null,
   "metadata": {
    "collapsed": true
   },
   "outputs": [],
   "source": [
    "#Geocoding API dashboard\n",
    "#https://console.developers.google.com/project/915674655832/apiui/apiview/geocoding_backend/overview"
   ]
  },
  {
   "cell_type": "code",
   "execution_count": null,
   "metadata": {
    "collapsed": true
   },
   "outputs": [],
   "source": [
    "https://maps.googleapis.com/maps/api/geocode/json?\\\n",
    "address=1600+Amphitheatre+Parkway,+Mountain+View,+CA&key=API_KEY"
   ]
  },
  {
   "cell_type": "code",
   "execution_count": 78,
   "metadata": {
    "collapsed": false
   },
   "outputs": [
    {
     "data": {
      "text/plain": [
       "{u'results': [{u'address_components': [{u'long_name': u'Russian Hill',\n",
       "     u'short_name': u'Russian Hill',\n",
       "     u'types': [u'neighborhood', u'political']},\n",
       "    {u'long_name': u'San Francisco',\n",
       "     u'short_name': u'SF',\n",
       "     u'types': [u'locality', u'political']},\n",
       "    {u'long_name': u'San Francisco County',\n",
       "     u'short_name': u'San Francisco County',\n",
       "     u'types': [u'administrative_area_level_2', u'political']},\n",
       "    {u'long_name': u'California',\n",
       "     u'short_name': u'CA',\n",
       "     u'types': [u'administrative_area_level_1', u'political']},\n",
       "    {u'long_name': u'United States',\n",
       "     u'short_name': u'US',\n",
       "     u'types': [u'country', u'political']}],\n",
       "   u'formatted_address': u'Russian Hill, San Francisco, CA, USA',\n",
       "   u'geometry': {u'bounds': {u'northeast': {u'lat': 37.805986,\n",
       "      u'lng': -122.4067444},\n",
       "     u'southwest': {u'lat': 37.7957119, u'lng': -122.4251642}},\n",
       "    u'location': {u'lat': 37.8010963, u'lng': -122.4195558},\n",
       "    u'location_type': u'APPROXIMATE',\n",
       "    u'viewport': {u'northeast': {u'lat': 37.805986, u'lng': -122.4067444},\n",
       "     u'southwest': {u'lat': 37.7957119, u'lng': -122.4251642}}},\n",
       "   u'place_id': u'ChIJdZaCGuaAhYARxWlcNTgaA-c',\n",
       "   u'types': [u'neighborhood', u'political']}],\n",
       " u'status': u'OK'}"
      ]
     },
     "execution_count": 78,
     "metadata": {},
     "output_type": "execute_result"
    }
   ],
   "source": [
    "api_key = gmaps_query_data_file.api_key\n",
    "def queryGmapsGeo(location, api_key):\n",
    "    gmaps_query = urllib2.urlopen(\"\"\"\\\n",
    "    https://maps.googleapis.com/maps/api/geocode/json?\\\n",
    "address={}&\\\n",
    "key={}\"\"\".format(location, api_key))\n",
    "    query_result = json.loads(gmaps_query.read())\n",
    "    return query_result"
   ]
  },
  {
   "cell_type": "code",
   "execution_count": 121,
   "metadata": {
    "collapsed": false
   },
   "outputs": [],
   "source": [
    "russian_hill = \"Russian Hill, San Francisco, CA\"\n",
    "north_beach = \"North Beach, San Francisco, CA\"\n",
    "pacific_heights = \"Pacific Heights, San Francisco, CA\"\n",
    "outer_richmond = \"Outer Richmond, San+Francisco, CA\"\n",
    "outer_sunset = \"Outer Sunset, San Francisco, CA\"\n",
    "mission_district = \"Mission District, San Francisco, CA\"\n",
    "noe_valley = \"Noe Valley, San+Francisco, CA\"\n",
    "\n",
    "oakland = \"Oakland, CA\"\n",
    "berkeley = \"Berkeley, CA\"\n",
    "\n",
    "soma_district = \"SoMA, San Francisco, CA\"\n",
    "financial_district = \"Financial District, San Francisco, CA\"\n",
    "mountain_view = \"Mountain View, CA\"\n",
    "\n",
    "residential_neighborhoods = [pacific_heights, outer_richmond,\\\n",
    "                            outer_sunset, mission_district, noe_valley,\\\n",
    "                            oakland, berkeley]\n",
    "work_districts = [oakland, financial_district, mountain_view]"
   ]
  },
  {
   "cell_type": "code",
   "execution_count": 111,
   "metadata": {
    "collapsed": false
   },
   "outputs": [],
   "source": [
    "work_coordinates = []\n",
    "residential_coordinates = []"
   ]
  },
  {
   "cell_type": "code",
   "execution_count": 122,
   "metadata": {
    "collapsed": true
   },
   "outputs": [],
   "source": [
    "residential_coordinates = []\n",
    "for neighborhood in residential_neighborhoods:  \n",
    "    location = urllib.quote_plus(neighborhood)\n",
    "    query_result = queryGmapsGeo(location, api_key)\n",
    "    lat = query_result['results'][0]['geometry']['location']['lat']\n",
    "    lng = query_result['results'][0]['geometry']['location']['lng']\n",
    "    coordinates = str(lat) + ',' + str(lng)\n",
    "    residential_coordinates.append(coordinates)"
   ]
  },
  {
   "cell_type": "code",
   "execution_count": 124,
   "metadata": {
    "collapsed": false
   },
   "outputs": [
    {
     "name": "stdout",
     "output_type": "stream",
     "text": [
      "['37.7925153,-122.4382307', '37.777677,-122.49531', '37.755445,-122.494069', '37.7598648,-122.4147977', '37.7502378,-122.4337029', '37.8043637,-122.2711137', '37.8715926,-122.272747']\n"
     ]
    }
   ],
   "source": [
    "print residential_coordinates"
   ]
  },
  {
   "cell_type": "code",
   "execution_count": 116,
   "metadata": {
    "collapsed": false
   },
   "outputs": [
    {
     "name": "stdout",
     "output_type": "stream",
     "text": [
      "['37.8043637,-122.2711137', '37.7945742,-122.3999445', '37.3860517,-122.0838511']\n"
     ]
    }
   ],
   "source": [
    "print work_coordinates"
   ]
  },
  {
   "cell_type": "code",
   "execution_count": null,
   "metadata": {
    "collapsed": true
   },
   "outputs": [],
   "source": []
  }
 ],
 "metadata": {
  "kernelspec": {
   "display_name": "Python 2",
   "language": "python",
   "name": "python2"
  },
  "language_info": {
   "codemirror_mode": {
    "name": "ipython",
    "version": 2
   },
   "file_extension": ".py",
   "mimetype": "text/x-python",
   "name": "python",
   "nbconvert_exporter": "python",
   "pygments_lexer": "ipython2",
   "version": "2.7.9"
  }
 },
 "nbformat": 4,
 "nbformat_minor": 0
}
