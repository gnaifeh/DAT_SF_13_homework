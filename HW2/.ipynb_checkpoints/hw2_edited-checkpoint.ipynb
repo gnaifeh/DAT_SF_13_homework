{
 "cells": [
  {
   "cell_type": "code",
   "execution_count": 35,
   "metadata": {
    "collapsed": true
   },
   "outputs": [],
   "source": [
    "%matplotlib inline\n",
    "from __future__ import division\n",
    "#import numpy, pandas, and matplotlib\n",
    "import pandas as pd\n",
    "import numpy as np\n",
    "import matplotlib.pyplot as plt\n",
    "from matplotlib.colors import ListedColormap\n",
    "#import scikitlearn\n",
    "from sklearn import neighbors, datasets, feature_selection\n",
    "from sklearn.datasets import load_iris\n",
    "from sklearn.cross_validation import train_test_split, cross_val_score, KFold"
   ]
  },
  {
   "cell_type": "markdown",
   "metadata": {},
   "source": [
    "<p><b>Question 1.</b> Implement KNN classification, using the sklearn package. We learned how to do this in class.\n",
    "See also: http://scikit-learn.org/stable/modules/neighbors.html#nearest-neighbors-classification</p>"
   ]
  },
  {
   "cell_type": "code",
   "execution_count": 96,
   "metadata": {
    "collapsed": false,
    "scrolled": true
   },
   "outputs": [
    {
     "data": {
      "text/html": [
       "<div style=\"max-height:1000px;max-width:1500px;overflow:auto;\">\n",
       "<table border=\"1\" class=\"dataframe\">\n",
       "  <thead>\n",
       "    <tr style=\"text-align: right;\">\n",
       "      <th></th>\n",
       "      <th>sepal length (cm)</th>\n",
       "      <th>sepal width (cm)</th>\n",
       "      <th>petal length (cm)</th>\n",
       "      <th>petal width (cm)</th>\n",
       "    </tr>\n",
       "  </thead>\n",
       "  <tbody>\n",
       "    <tr>\n",
       "      <th>0</th>\n",
       "      <td> 5.1</td>\n",
       "      <td> 3.5</td>\n",
       "      <td> 1.4</td>\n",
       "      <td> 0.2</td>\n",
       "    </tr>\n",
       "    <tr>\n",
       "      <th>1</th>\n",
       "      <td> 4.9</td>\n",
       "      <td> 3.0</td>\n",
       "      <td> 1.4</td>\n",
       "      <td> 0.2</td>\n",
       "    </tr>\n",
       "    <tr>\n",
       "      <th>2</th>\n",
       "      <td> 4.7</td>\n",
       "      <td> 3.2</td>\n",
       "      <td> 1.3</td>\n",
       "      <td> 0.2</td>\n",
       "    </tr>\n",
       "    <tr>\n",
       "      <th>3</th>\n",
       "      <td> 4.6</td>\n",
       "      <td> 3.1</td>\n",
       "      <td> 1.5</td>\n",
       "      <td> 0.2</td>\n",
       "    </tr>\n",
       "    <tr>\n",
       "      <th>4</th>\n",
       "      <td> 5.0</td>\n",
       "      <td> 3.6</td>\n",
       "      <td> 1.4</td>\n",
       "      <td> 0.2</td>\n",
       "    </tr>\n",
       "  </tbody>\n",
       "</table>\n",
       "</div>"
      ],
      "text/plain": [
       "   sepal length (cm)  sepal width (cm)  petal length (cm)  petal width (cm)\n",
       "0                5.1               3.5                1.4               0.2\n",
       "1                4.9               3.0                1.4               0.2\n",
       "2                4.7               3.2                1.3               0.2\n",
       "3                4.6               3.1                1.5               0.2\n",
       "4                5.0               3.6                1.4               0.2"
      ]
     },
     "execution_count": 96,
     "metadata": {},
     "output_type": "execute_result"
    }
   ],
   "source": [
    "#Load in the data\n",
    "iris = datasets.load_iris()\n",
    "iris_df = pd.DataFrame(iris.data, columns=iris.feature_names)\n",
    "iris_df.head()\n",
    "#iris_df.describe()"
   ]
  },
  {
   "cell_type": "code",
   "execution_count": 20,
   "metadata": {
    "collapsed": false
   },
   "outputs": [
    {
     "name": "stdout",
     "output_type": "stream",
     "text": [
      "[1, 3, 5, 7, 9, 11, 13, 15, 17, 19, 21, 23, 25, 27, 29, 31, 33, 35, 37, 39, 41, 43, 45, 47, 49]\n"
     ]
    }
   ],
   "source": [
    "# Various variables we'll need to set intially.\n",
    "n_neighbors = range(1, 51, 2)\n",
    "#print type(n_neighbors)\n",
    "print n_neighbors"
   ]
  },
  {
   "cell_type": "code",
   "execution_count": 23,
   "metadata": {
    "collapsed": true
   },
   "outputs": [],
   "source": [
    "# Create the training (and test) set using scikit-learn's train_test_split function\n",
    "X_train, X_test, y_train, y_test = train_test_split(iris.data, iris.target, test_size=0.2, random_state=12)"
   ]
  },
  {
   "cell_type": "code",
   "execution_count": 25,
   "metadata": {
    "collapsed": false
   },
   "outputs": [],
   "source": [
    "# Loop through each neighbors value from 1 to 51 and append the scores\n",
    "scores_q1 = []\n",
    "for n in n_neighbors:\n",
    "    clf = neighbors.KNeighborsClassifier(n)\n",
    "    clf.fit(X_train, y_train)\n",
    "    scores_q1.append(clf.score(X_test, y_test))"
   ]
  },
  {
   "cell_type": "code",
   "execution_count": 31,
   "metadata": {
    "collapsed": false
   },
   "outputs": [
    {
     "name": "stdout",
     "output_type": "stream",
     "text": [
      "Mean score of 25 scenarios (odd numbered neighbors from 1 to 51) is 94.27%\n"
     ]
    }
   ],
   "source": [
    "scores_ndarray = np.array(scores_q1)\n",
    "print \"Mean score of {} scenarios (odd numbered neighbors from 1 to 51) is {:.2%}\".\\\n",
    "    format(len(n_neighbors),scores_ndarray.mean())"
   ]
  },
  {
   "cell_type": "code",
   "execution_count": null,
   "metadata": {
    "collapsed": false
   },
   "outputs": [],
   "source": []
  },
  {
   "cell_type": "markdown",
   "metadata": {},
   "source": [
    "<p><b>Question 2.</b> Use the sklearn package to implement cross-validation for your classifier. Use 5 folds for your cross-validation. See also: http://scikit-learn.org/stable/modules/cross_validation.html#</p>"
   ]
  },
  {
   "cell_type": "code",
   "execution_count": 101,
   "metadata": {
    "collapsed": true
   },
   "outputs": [],
   "source": [
    "from sklearn.cross_validation import cross_val_score"
   ]
  },
  {
   "cell_type": "code",
   "execution_count": 102,
   "metadata": {
    "collapsed": false
   },
   "outputs": [],
   "source": [
    "n_neighbor = 6\n",
    "clf = neighbors.KNeighborsClassifier(n_neighbor, weights='uniform')\n",
    "clf.fit(iris.data, iris.target)\n",
    "scores = cross_val_score(clf, iris.data, iris.target, cv=5)"
   ]
  },
  {
   "cell_type": "code",
   "execution_count": 103,
   "metadata": {
    "collapsed": false
   },
   "outputs": [
    {
     "name": "stdout",
     "output_type": "stream",
     "text": [
      "[ 0.96666667  1.          0.96666667  0.96666667  1.        ]\n",
      "0.98\n"
     ]
    }
   ],
   "source": [
    "print scores\n",
    "print scores.mean()"
   ]
  },
  {
   "cell_type": "code",
   "execution_count": null,
   "metadata": {
    "collapsed": true
   },
   "outputs": [],
   "source": []
  },
  {
   "cell_type": "markdown",
   "metadata": {},
   "source": [
    "<p><b>Question 3.</b> Use your KNN classifier and cross-validation code from (1) and (2) above to determine the optimal value of K (number of nearest neighbors to consult) for this Iris dataset. Hint: This hyperparameter will be a number between 1 and 150.</p>"
   ]
  },
  {
   "cell_type": "code",
   "execution_count": 61,
   "metadata": {
    "collapsed": false
   },
   "outputs": [
    {
     "name": "stdout",
     "output_type": "stream",
     "text": [
      "Optimal value of K: 11\n",
      "K of 11 has 0.966666666667 accuracy\n"
     ]
    }
   ],
   "source": [
    "scores_for_dif_k_values = []\n",
    "for k in range(1,121):\n",
    "    clf = neighbors.KNeighborsClassifier(k, weights='uniform')\n",
    "    fold_scores = cross_val_score(clf, iris.data, iris.target, cv=KFold(len(iris.data), n_folds=5, shuffle=True, random_state=0))\n",
    "    scores_for_dif_k_values.append(fold_scores.mean())\n",
    "max_k = np.argmax(scores_for_dif_k_values)\n",
    "print \"Optimal value of K: {}\".format(max_k+1)\n",
    "print \"K of {} has {} accuracy\".format(max_k+1, scores_for_dif_k_values[max_k])"
   ]
  },
  {
   "cell_type": "code",
   "execution_count": null,
   "metadata": {
    "collapsed": false
   },
   "outputs": [],
   "source": []
  },
  {
   "cell_type": "markdown",
   "metadata": {},
   "source": [
    "<p><b>Question 4.</b> Using matplotlib, plot classifier accuracy versus the hyperparameter K for a range of K that you consider interesting. Explain in words what you are seeing.</p>"
   ]
  },
  {
   "cell_type": "code",
   "execution_count": 41,
   "metadata": {
    "collapsed": false
   },
   "outputs": [
    {
     "data": {
      "image/png": "[encoded data removed]",
      "text/plain": [
       "<matplotlib.figure.Figure at 0x10382e090>"
      ]
     },
     "metadata": {},
     "output_type": "display_data"
    }
   ],
   "source": [
    "fig = plt.figure(figsize = (8, 4))\n",
    "ax = fig.add_subplot(1,1,1)\n",
    "ax.plot(scores_for_dif_k_values)\n",
    "\n",
    "plt.title('Classifier accuracy versus hyperparemeter K')\n",
    "plt.xlabel('Range of Hyperparemeter K')\n",
    "plt.ylabel('Classifier Accuracy')\n",
    "\n",
    "plt.show()"
   ]
  },
  {
   "cell_type": "markdown",
   "metadata": {},
   "source": [
    "<p>From the graph above, it appears that the optimal K range is somewhere between 6 and 11. Once we start adding more neighbors, the accuracy of the model decreases. Once you get past k=79, you can see that there is significant overfitting with the data set.</p>"
   ]
  },
  {
   "cell_type": "code",
   "execution_count": null,
   "metadata": {
    "collapsed": true
   },
   "outputs": [],
   "source": []
  },
  {
   "cell_type": "markdown",
   "metadata": {},
   "source": [
    "<p><b>Question 5.</b> Now, write your own implementation of cross-validation in Python without using the cross-validation methods from sklearn. Cross validation is a very important concept. Implementing it yourself in Python is the best way to learn and understand it. Compare the results of your cross-validation code with your results using the cross-validation in sklearn.</p>"
   ]
  },
  {
   "cell_type": "code",
   "execution_count": 59,
   "metadata": {
    "collapsed": false
   },
   "outputs": [
    {
     "name": "stdout",
     "output_type": "stream",
     "text": [
      "11\n",
      "0.973333333333\n"
     ]
    }
   ],
   "source": [
    "# 1. The code below first loads and shuffles the iris data set\n",
    "# 2. Next it separates the iris data set into 5 folds\n",
    "# 3. Last, it calls a function \"find_optimal_k\" which loops through \\\n",
    "#   all possible k nearest neighbor values (given a certain number \\\n",
    "#   of folds) and implements KNN and cross-validation for each k value. \\\n",
    "#   The function returns the k value that had the highest accuracy score\n",
    "##############################################\n",
    "#Note: For cross-validation, we will use 5 folds\n",
    "cv_folds = 5\n",
    "##############################################\n",
    "#Load iris data set into dataframe and shuffle\n",
    "iris = datasets.load_iris()\n",
    "iris_df2 = pd.DataFrame(iris.data, columns=iris.feature_names)\n",
    "iris_df2['Target'] = iris.target #add column to dataframe with target values\n",
    "iris_df2_values = iris_df2.values #create ndarray of values\n",
    "np.random.shuffle(iris_df2_values) #shuffle all rows in the iris values ndarray\n",
    "iris.feature_names.append('Target') #add target column to feature names in iris data set\n",
    "iris_df2_shuffled = pd.DataFrame(iris_df2_values, columns=iris.feature_names)\n",
    "###############################################\n",
    "#take shuffled array and convert it to five subsets (one for each fold)\n",
    "subset_1 = iris_df2_values[:30,:]\n",
    "subset_2 = iris_df2_values[30:60,:]\n",
    "subset_3 = iris_df2_values[60:90,:]\n",
    "subset_4 = iris_df2_values[90:120,:]\n",
    "subset_5 = iris_df2_values[120:150,:]\n",
    "subset_list = [subset_1,subset_2,subset_3,subset_4,subset_5]\n",
    "##############################################\n",
    "# Below is a function that creates and adds to a list called \n",
    "# \"scores_for_dif_k_values\" which keeps track of the mean KNN score\n",
    "# for each k nighbor value tested. This mean knn score is to be derived \n",
    "# from the average of all cross validation fold scores obtained for each \n",
    "# specific k. The k with the highest score (found with argmax) is the \n",
    "# optimal k for this arrangement of the iris data set.\n",
    "def find_optimal_k(iris_df2, subset_list, cv_folds):\n",
    "    scores_for_dif_k_values = np.array([])\n",
    "    #create variables to keep track of dataset length, fold lengths and highest \n",
    "    #k parameter possible given size of data set and number of cv folds\n",
    "    dataset_length = len(iris_df2)\n",
    "    cv_fold_length = dataset_length / cv_folds\n",
    "    highest_k = int(dataset_length - cv_fold_length)\n",
    "    #loop through each k value possible (given the number of folds)\n",
    "    for k in range(1,highest_k):\n",
    "        folds_scores = np.array([])\n",
    "        for current_subset in subset_list:\n",
    "            #establish current_subset as the test subset\n",
    "            test_set = current_subset\n",
    "            #create training array\n",
    "            training_set = np.array([])\n",
    "            for this_subset in subset_list:\n",
    "                if this_subset is not test_set:\n",
    "                    if (len(training_set)) == 0:\n",
    "                        training_set = this_subset\n",
    "                    else:\n",
    "                        training_set = np.append(training_set, this_subset, axis=0)\n",
    "            #establish x and y training and test sets\n",
    "            this_x_train = training_set[:,:4]\n",
    "            this_y_train = training_set[:,4]\n",
    "            this_x_test = test_set[:,:4]\n",
    "            this_y_test = test_set[:,4]\n",
    "            #fit the model to the training set\n",
    "            clf = neighbors.KNeighborsClassifier(k)\n",
    "            clf.fit(this_x_train, this_y_train)\n",
    "            #add the accuracy of this particlar train/test split\n",
    "            folds_scores = np.append(folds_scores, (clf.score(this_x_test, this_y_test)))\n",
    "        fold_scores_mean = np.mean(folds_scores)\n",
    "        scores_for_dif_k_values = np.append(scores_for_dif_k_values, fold_scores_mean)\n",
    "    max_k = np.argmax(scores_for_dif_k_values)\n",
    "    return max_k+1, scores_for_dif_k_values[max_k]\n",
    "optimal_k,accuracy = find_optimal_k(iris_df2, subset_list, cv_folds)\n",
    "print optimal_k\n",
    "print accuracy                      "
   ]
  },
  {
   "cell_type": "markdown",
   "metadata": {},
   "source": [
    "Both implementations agree that a lower K value (in the 9-12 range) will yield higher accuracy. For my implementation of cross-validation, the resulting optimal_k and accuracy figures change every time the code is run. This is due to the shuffling of the data set that occurs prior to classification. To see if I could get a more accurate reading of optimal_k, I ran the above code 100 times and averaged the resulting optimal_k and accuracy values."
   ]
  },
  {
   "cell_type": "code",
   "execution_count": 66,
   "metadata": {
    "collapsed": false
   },
   "outputs": [
    {
     "name": "stdout",
     "output_type": "stream",
     "text": [
      "9.57\n",
      "0.975133333333\n"
     ]
    }
   ],
   "source": [
    "optimal_k_array = np.array([])\n",
    "accuracy_array = np.array([])\n",
    "for i in np.arange(100):\n",
    "    ##############################################\n",
    "    #Load iris data set into dataframe and shuffle\n",
    "    iris = datasets.load_iris()\n",
    "    iris_df2 = pd.DataFrame(iris.data, columns=iris.feature_names)\n",
    "    iris_df2['Target'] = iris.target\n",
    "    iris_df2_values = iris_df2.values\n",
    "    np.random.shuffle(iris_df2_values)\n",
    "    iris.feature_names.append('Target')\n",
    "    iris_df2_shuffled = pd.DataFrame(iris_df2_values, columns=iris.feature_names)\n",
    "    #take shuffled array and convert it to five subsets (one for each fold)\n",
    "    subset_1 = iris_df2_values[:30,:]\n",
    "    subset_2 = iris_df2_values[30:60,:]\n",
    "    subset_3 = iris_df2_values[60:90,:]\n",
    "    subset_4 = iris_df2_values[90:120,:]\n",
    "    subset_5 = iris_df2_values[120:150,:]\n",
    "    subset_list = [subset_1,subset_2,subset_3,subset_4,subset_5]\n",
    "    ##############################################\n",
    "    # Below is a function that creates and adds to a list called \n",
    "    # \"scores_for_dif_k_values\" which keeps track of the mean KNN score\n",
    "    # for each k nighbor value tested. This mean knn score is to be derived \n",
    "    # from the average of all cross validation fold scores obtained for each \n",
    "    # specific k. The k with the highest score (found with argmax) is the \n",
    "    # optimal k for this arrangement of the iris data set.\n",
    "    cv_folds = 5\n",
    "    def find_optimal_k(iris_df2, subset_list, cv_folds):\n",
    "        scores_for_dif_k_values = np.array([])\n",
    "        #create variables to keep track of dataset length, fold lengths and highest \n",
    "        #k parameter possible given size of data set and number of cv folds\n",
    "        dataset_length = len(iris_df2)\n",
    "        cv_fold_length = dataset_length / cv_folds\n",
    "        highest_k = int(dataset_length - cv_fold_length)\n",
    "        #loop through each k value possible (given the number of folds)\n",
    "        for k in range(1,highest_k):\n",
    "            folds_scores = np.array([])\n",
    "            for current_subset in subset_list:\n",
    "                #establish current_subset as the test subset\n",
    "                test_set = current_subset\n",
    "                #create training array\n",
    "                training_set = np.array([])\n",
    "                for this_subset in subset_list:\n",
    "                    if this_subset is not test_set:\n",
    "                        if (len(training_set)) == 0:\n",
    "                            training_set = this_subset\n",
    "                        else:\n",
    "                            training_set = np.append(training_set, this_subset, axis=0)\n",
    "                #establish x and y training and test sets\n",
    "                this_x_train = training_set[:,:4]\n",
    "                this_y_train = training_set[:,4]\n",
    "                this_x_test = test_set[:,:4]\n",
    "                this_y_test = test_set[:,4]\n",
    "                #fit the model to the training set\n",
    "                clf = neighbors.KNeighborsClassifier(k)\n",
    "                clf.fit(this_x_train, this_y_train)\n",
    "                #add the accuracy of this particlar train/test split\n",
    "                folds_scores = np.append(folds_scores, (clf.score(this_x_test, this_y_test)))\n",
    "            fold_scores_mean = np.mean(folds_scores)\n",
    "            scores_for_dif_k_values = np.append(scores_for_dif_k_values, fold_scores_mean)\n",
    "        max_k = np.argmax(scores_for_dif_k_values)\n",
    "        return max_k+1, scores_for_dif_k_values[max_k]\n",
    "    optimal_k,accuracy = find_optimal_k(iris_df2, subset_list, cv_folds)\n",
    "    optimal_k_array = np.append(optimal_k_array,optimal_k)\n",
    "    accuracy_array = np.append(accuracy_array, accuracy)\n",
    "    #print optimal_k\n",
    "    #print accuracy\n",
    "print optimal_k_array.mean()\n",
    "print accuracy_array.mean()"
   ]
  },
  {
   "cell_type": "code",
   "execution_count": 94,
   "metadata": {
    "collapsed": true
   },
   "outputs": [],
   "source": []
  },
  {
   "cell_type": "code",
   "execution_count": null,
   "metadata": {
    "collapsed": true
   },
   "outputs": [],
   "source": []
  }
 ],
 "metadata": {
  "kernelspec": {
   "display_name": "Python 2",
   "language": "python",
   "name": "python2"
  },
  "language_info": {
   "codemirror_mode": {
    "name": "ipython",
    "version": 2
   },
   "file_extension": ".py",
   "mimetype": "text/x-python",
   "name": "python",
   "nbconvert_exporter": "python",
   "pygments_lexer": "ipython2",
   "version": "2.7.9"
  }
 },
 "nbformat": 4,
 "nbformat_minor": 0
}
