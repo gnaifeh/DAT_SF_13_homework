{
 "cells": [
  {
   "cell_type": "code",
   "execution_count": 52,
   "metadata": {
    "collapsed": true
   },
   "outputs": [],
   "source": [
    "%matplotlib inline\n",
    "from __future__ import division\n",
    "import pandas as pd\n",
    "import numpy as np\n",
    "#from seaborn import plt\n",
    "import matplotlib.pyplot as plt\n",
    "from matplotlib.colors import ListedColormap\n",
    "#\n",
    "from sklearn.datasets import load_iris\n",
    "from sklearn import neighbors, datasets, feature_selection\n",
    "from sklearn.cross_validation import train_test_split, cross_val_score"
   ]
  },
  {
   "cell_type": "markdown",
   "metadata": {},
   "source": [
    "- Question 1: Implement KNN classification, using the sklearn package. We learned how to do this in class.\n",
    "See also: http://scikit-learn.org/stable/modules/neighbors.html#nearest-neighbors-classification"
   ]
  },
  {
   "cell_type": "code",
   "execution_count": 53,
   "metadata": {
    "collapsed": false
   },
   "outputs": [],
   "source": [
    "# Load in the data\n",
    "iris = datasets.load_iris()\n",
    "iris_df = pd.DataFrame(iris.data, columns=iris.feature_names)\n",
    "#iris_df.head()\n",
    "#iris_df.describe()"
   ]
  },
  {
   "cell_type": "code",
   "execution_count": 54,
   "metadata": {
    "collapsed": false
   },
   "outputs": [],
   "source": [
    "# Various variables we'll need to set intially.\n",
    "n_neighbors = range(1, 51, 2)\n",
    "#print type(n_neighbors)\n",
    "#print n_neighbors"
   ]
  },
  {
   "cell_type": "code",
   "execution_count": 55,
   "metadata": {
    "collapsed": true
   },
   "outputs": [],
   "source": [
    "# Create the training (and test) set using scikit-learn's train_test_split function\n",
    "X_train, X_test, y_train, y_test = train_test_split(iris.data, iris.target, test_size=0.3, random_state=12)"
   ]
  },
  {
   "cell_type": "code",
   "execution_count": 56,
   "metadata": {
    "collapsed": false
   },
   "outputs": [],
   "source": [
    "# Loop through each neighbors value from 1 to 51 and append\n",
    "# the scores\n",
    "scores = []\n",
    "for n in n_neighbors:\n",
    "    clf = neighbors.KNeighborsClassifier(n)\n",
    "    clf.fit(X_train, y_train)\n",
    "    scores.append(clf.score(X_test, y_test))"
   ]
  },
  {
   "cell_type": "code",
   "execution_count": 57,
   "metadata": {
    "collapsed": false
   },
   "outputs": [
    {
     "name": "stdout",
     "output_type": "stream",
     "text": [
      "0.962666666667\n"
     ]
    }
   ],
   "source": [
    "scores_ndarray = np.array(scores)\n",
    "print scores_ndarray.mean()"
   ]
  },
  {
   "cell_type": "code",
   "execution_count": null,
   "metadata": {
    "collapsed": true
   },
   "outputs": [],
   "source": []
  },
  {
   "cell_type": "markdown",
   "metadata": {},
   "source": [
    "- Question 2. Use the sklearn package to implement cross-validation for your classifier. Use 5 folds for your cross-validation. See also: http://scikit-learn.org/stable/modules/cross_validation.html#"
   ]
  },
  {
   "cell_type": "code",
   "execution_count": 58,
   "metadata": {
    "collapsed": true
   },
   "outputs": [],
   "source": [
    "from sklearn.cross_validation import cross_val_score"
   ]
  },
  {
   "cell_type": "code",
   "execution_count": 59,
   "metadata": {
    "collapsed": true
   },
   "outputs": [],
   "source": [
    "clf = neighbors.KNeighborsClassifier(7, weights='uniform')\n",
    "clf.fit(iris.data, iris.target)\n",
    "scores = cross_val_score(clf, iris_df.values, iris.target, cv=5)"
   ]
  },
  {
   "cell_type": "code",
   "execution_count": 60,
   "metadata": {
    "collapsed": false
   },
   "outputs": [
    {
     "name": "stdout",
     "output_type": "stream",
     "text": [
      "[ 0.96666667  1.          0.96666667  0.96666667  1.        ]\n",
      "0.98\n"
     ]
    }
   ],
   "source": [
    "print scores\n",
    "print scores.mean()"
   ]
  },
  {
   "cell_type": "code",
   "execution_count": null,
   "metadata": {
    "collapsed": true
   },
   "outputs": [],
   "source": []
  },
  {
   "cell_type": "markdown",
   "metadata": {},
   "source": [
    "- Question 3. Use your KNN classifier and cross-validation code from (1) and (2) above to determine the optimal value of K (number of nearest neighbors to consult) for this Iris dataset. Hint: This hyperparameter will be a number between 1 and 150."
   ]
  },
  {
   "cell_type": "code",
   "execution_count": 61,
   "metadata": {
    "collapsed": false
   },
   "outputs": [
    {
     "name": "stdout",
     "output_type": "stream",
     "text": [
      "Optimal value of K: 6\n",
      "K of 6 has 0.98 accuracy\n"
     ]
    }
   ],
   "source": [
    "scores_for_dif_k_values = []\n",
    "for k in range(1,121):\n",
    "    clf = neighbors.KNeighborsClassifier(k, weights='uniform')\n",
    "    clf.fit(iris.data, iris.target)\n",
    "    fold_scores = cross_val_score(clf, iris.data, iris.target, cv=5)\n",
    "    #print k\n",
    "    #print fold_scores\n",
    "    #print fold_scores.mean()\n",
    "    scores_for_dif_k_values.append(fold_scores.mean())\n",
    "#print scores_for_dif_k_values\n",
    "max_k = np.argmax(scores_for_dif_k_values)\n",
    "#print max_k\n",
    "#print scores_for_dif_k_values[max_k]\n",
    "print \"Optimal value of K: {}\".format(max_k+1)\n",
    "print \"K of {} has {} accuracy\".format(max_k+1, scores_for_dif_k_values[max_k])"
   ]
  },
  {
   "cell_type": "code",
   "execution_count": null,
   "metadata": {
    "collapsed": false
   },
   "outputs": [],
   "source": []
  },
  {
   "cell_type": "code",
   "execution_count": null,
   "metadata": {
    "collapsed": false
   },
   "outputs": [],
   "source": []
  },
  {
   "cell_type": "code",
   "execution_count": null,
   "metadata": {
    "collapsed": true
   },
   "outputs": [],
   "source": []
  },
  {
   "cell_type": "markdown",
   "metadata": {},
   "source": [
    "- Question 4. Using matplotlib, plot classifier accuracy versus the hyperparameter K for a range of K that you consider interesting. Explain in words what you are seeing."
   ]
  },
  {
   "cell_type": "code",
   "execution_count": 62,
   "metadata": {
    "collapsed": false
   },
   "outputs": [
    {
     "data": {
      "image/png": "[encoded data removed]",
      "text/plain": [
       "<matplotlib.figure.Figure at 0x108230990>"
      ]
     },
     "metadata": {},
     "output_type": "display_data"
    }
   ],
   "source": [
    "fig = plt.figure(figsize = (8, 4))\n",
    "ax = fig.add_subplot(1,1,1)\n",
    "ax.plot(scores_for_dif_k_values)\n",
    "ax.plot(max_k,scores_for_dif_k_values[max_k])\n",
    "\n",
    "plt.title('Classifier accuracy versus hyperparemeter K')\n",
    "plt.xlabel('Range of Hyperparemeter K')\n",
    "plt.ylabel('Classifier Accuracy')\n",
    "\n",
    "\n",
    "plt.show()"
   ]
  },
  {
   "cell_type": "markdown",
   "metadata": {},
   "source": [
    "From the graph above, it appears that the optimal K range is somewhere between 6 and 11. Once we start adding more neighbors, the accuracy of the model decreases. Once you get past k=79, you can see that there is overfitting with the data set."
   ]
  },
  {
   "cell_type": "code",
   "execution_count": null,
   "metadata": {
    "collapsed": true
   },
   "outputs": [],
   "source": []
  },
  {
   "cell_type": "markdown",
   "metadata": {},
   "source": [
    "- Question 5. Now, write your own implementation of cross-validation in Python without using the cross-validation methods from sklearn. Cross validation is a very important concept. Implementing it yourself in Python is the best way to learn and understand it. Compare the results of your cross-validation code with your results using the cross-validation in sklearn."
   ]
  },
  {
   "cell_type": "code",
   "execution_count": 67,
   "metadata": {
    "collapsed": false
   },
   "outputs": [],
   "source": [
    "iris = datasets.load_iris()\n",
    "iris_df = pd.DataFrame(iris.data, columns=iris.feature_names)\n",
    "iris_df2= iris_df.copy()\n",
    "#add column to dataframe with target values\n",
    "iris_df2['Target'] = iris.target\n",
    "#takin values from dataframe and converting to ndarray in order to shuffle\n",
    "iris_df2_values = iris_df2.values\n",
    "#shuffle all rows in the dataframe\n",
    "np.random.shuffle(iris_df2_values)\n",
    "#add Target column to column names\n",
    "iris.feature_names.append('Target')\n",
    "#converting ndarray back to dataframe with 5 columns and proper titles\n",
    "#we now have a shuffled dataframe\n",
    "iris_df2_shuffled = pd.DataFrame(iris_df2_values, columns=iris.feature_names)\n",
    "#print iris_df2_shuffled"
   ]
  },
  {
   "cell_type": "code",
   "execution_count": 68,
   "metadata": {
    "collapsed": false
   },
   "outputs": [
    {
     "name": "stdout",
     "output_type": "stream",
     "text": [
      "150\n"
     ]
    }
   ],
   "source": [
    "print len(iris_df2_shuffled)"
   ]
  },
  {
   "cell_type": "code",
   "execution_count": 69,
   "metadata": {
    "collapsed": false
   },
   "outputs": [],
   "source": [
    "#take shuffled array and convert it to five subsets (one for each fold)\n",
    "#print iris_df2_values\n",
    "subset_1 = iris_df2_values[:30,:]\n",
    "subset_2 = iris_df2_values[30:60,:]\n",
    "subset_3 = iris_df2_values[60:90,:]\n",
    "subset_4 = iris_df2_values[90:120,:]\n",
    "subset_5 = iris_df2_values[120:150,:]\n",
    "subset_list = [subset_1,subset_2,subset_3,subset_4,subset_5]"
   ]
  },
  {
   "cell_type": "code",
   "execution_count": 71,
   "metadata": {
    "collapsed": false
   },
   "outputs": [
    {
     "name": "stdout",
     "output_type": "stream",
     "text": [
      "13\n",
      "0.98\n"
     ]
    }
   ],
   "source": [
    "#use subset i as training set; test on all other subsets\n",
    "scores_for_dif_k_values = []\n",
    "for k in range(1,121):\n",
    "    scores = []\n",
    "    for test_subset in subset_list:\n",
    "        #create test array\n",
    "        test_array = test_subset\n",
    "        #create training array\n",
    "        training_array = np.array([])\n",
    "        for each_subset in subset_list:\n",
    "            if each_subset.all != test_subset.all:\n",
    "                this_subset = each_subset.ravel()\n",
    "                training_array = np.append(training_array, each_subset)\n",
    "        training_array = training_array.reshape(len(training_array)/5,5)\n",
    "        #\n",
    "        this_x_train = training_array[:,:4]\n",
    "        this_y_train = training_array[:,4]\n",
    "        #\n",
    "        this_x_test = test_array[:,:4]\n",
    "        this_y_test = test_array[:,4]\n",
    "        clf = neighbors.KNeighborsClassifier(k)\n",
    "        clf.fit(this_x_train, this_y_train)\n",
    "        scores.append(clf.score(this_x_test, this_y_test))\n",
    "    #print scores_array\n",
    "    scores_array = np.array(scores)\n",
    "    fold_scores_mean = scores_array.mean()\n",
    "    scores_for_dif_k_values.append(fold_scores_mean)\n",
    "#print scores_for_dif_k_values\n",
    "max_k = np.argmax(scores_for_dif_k_values)\n",
    "print max_k+1\n",
    "print scores_for_dif_k_values[max_k]                       "
   ]
  },
  {
   "cell_type": "markdown",
   "metadata": {},
   "source": [
    "While both implementations agree that a lower K value will yield higher accuracy, the implementation that I wrote appears to favor K values in the 9-13 range while the sci-kit implementation prefers values in the 6-10 range. This could be due to some error in the implementation of either method."
   ]
  },
  {
   "cell_type": "code",
   "execution_count": null,
   "metadata": {
    "collapsed": true
   },
   "outputs": [],
   "source": []
  },
  {
   "cell_type": "code",
   "execution_count": null,
   "metadata": {
    "collapsed": true
   },
   "outputs": [],
   "source": []
  }
 ],
 "metadata": {
  "kernelspec": {
   "display_name": "Python 2",
   "language": "python",
   "name": "python2"
  },
  "language_info": {
   "codemirror_mode": {
    "name": "ipython",
    "version": 2
   },
   "file_extension": ".py",
   "mimetype": "text/x-python",
   "name": "python",
   "nbconvert_exporter": "python",
   "pygments_lexer": "ipython2",
   "version": "2.7.9"
  }
 },
 "nbformat": 4,
 "nbformat_minor": 0
}
